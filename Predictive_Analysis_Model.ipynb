{
  "cells": [
    {
      "cell_type": "markdown",
      "metadata": {
        "id": "view-in-github",
        "colab_type": "text"
      },
      "source": [
        "<a href=\"https://colab.research.google.com/github/Chandrashekar0123/Predictive-Machine-Health/blob/main/Predictive_Analysis_Model.ipynb\" target=\"_parent\"><img src=\"https://colab.research.google.com/assets/colab-badge.svg\" alt=\"Open In Colab\"/></a>"
      ]
    },
    {
      "cell_type": "markdown",
      "metadata": {
        "id": "9EJ2e86xqZ6S"
      },
      "source": [
        "##Predictive Analysis for Manufacturing Operations\n"
      ]
    },
    {
      "cell_type": "markdown",
      "metadata": {
        "id": "9z1ho3IGqcr8"
      },
      "source": [
        "#Import all necessary libraries"
      ]
    },
    {
      "cell_type": "code",
      "execution_count": 21,
      "metadata": {
        "id": "vjQyJXenSD6p"
      },
      "outputs": [],
      "source": [
        "import pandas as pd\n",
        "import numpy as np\n",
        "from sklearn.model_selection import train_test_split\n",
        "from sklearn.tree import DecisionTreeClassifier\n",
        "from sklearn.metrics import accuracy_score, classification_report"
      ]
    },
    {
      "cell_type": "markdown",
      "metadata": {
        "id": "6LEoG6qpqnhu"
      },
      "source": [
        "#Load the dataset"
      ]
    },
    {
      "cell_type": "code",
      "execution_count": 22,
      "metadata": {
        "id": "mZX_IK2USHDo"
      },
      "outputs": [],
      "source": [
        "data = pd.read_csv('/content/predictive_maintenance.csv')"
      ]
    },
    {
      "cell_type": "markdown",
      "metadata": {
        "id": "pHTooie7qqjG"
      },
      "source": [
        "#Vewing the first 5 rows in the dataset"
      ]
    },
    {
      "cell_type": "code",
      "execution_count": 23,
      "metadata": {
        "colab": {
          "base_uri": "https://localhost:8080/",
          "height": 206
        },
        "id": "iMw_4dDpSN32",
        "outputId": "44cebbdc-e3fb-4848-d927-8e114c9e9111"
      },
      "outputs": [
        {
          "output_type": "execute_result",
          "data": {
            "text/plain": [
              "   UDI Product ID Type  Air temperature [K]  Process temperature [K]  \\\n",
              "0    1     M14860    M                298.1                    308.6   \n",
              "1    2     L47181    L                298.2                    308.7   \n",
              "2    3     L47182    L                298.1                    308.5   \n",
              "3    4     L47183    L                298.2                    308.6   \n",
              "4    5     L47184    L                298.2                    308.7   \n",
              "\n",
              "   Rotational speed [rpm]  Torque [Nm]  Tool wear [min]  Target Failure Type  \n",
              "0                    1551         42.8                0       0   No Failure  \n",
              "1                    1408         46.3                3       0   No Failure  \n",
              "2                    1498         49.4                5       0   No Failure  \n",
              "3                    1433         39.5                7       0   No Failure  \n",
              "4                    1408         40.0                9       0   No Failure  "
            ],
            "text/html": [
              "\n",
              "  <div id=\"df-436616d0-e086-4384-bb3d-d13c90ee91fc\" class=\"colab-df-container\">\n",
              "    <div>\n",
              "<style scoped>\n",
              "    .dataframe tbody tr th:only-of-type {\n",
              "        vertical-align: middle;\n",
              "    }\n",
              "\n",
              "    .dataframe tbody tr th {\n",
              "        vertical-align: top;\n",
              "    }\n",
              "\n",
              "    .dataframe thead th {\n",
              "        text-align: right;\n",
              "    }\n",
              "</style>\n",
              "<table border=\"1\" class=\"dataframe\">\n",
              "  <thead>\n",
              "    <tr style=\"text-align: right;\">\n",
              "      <th></th>\n",
              "      <th>UDI</th>\n",
              "      <th>Product ID</th>\n",
              "      <th>Type</th>\n",
              "      <th>Air temperature [K]</th>\n",
              "      <th>Process temperature [K]</th>\n",
              "      <th>Rotational speed [rpm]</th>\n",
              "      <th>Torque [Nm]</th>\n",
              "      <th>Tool wear [min]</th>\n",
              "      <th>Target</th>\n",
              "      <th>Failure Type</th>\n",
              "    </tr>\n",
              "  </thead>\n",
              "  <tbody>\n",
              "    <tr>\n",
              "      <th>0</th>\n",
              "      <td>1</td>\n",
              "      <td>M14860</td>\n",
              "      <td>M</td>\n",
              "      <td>298.1</td>\n",
              "      <td>308.6</td>\n",
              "      <td>1551</td>\n",
              "      <td>42.8</td>\n",
              "      <td>0</td>\n",
              "      <td>0</td>\n",
              "      <td>No Failure</td>\n",
              "    </tr>\n",
              "    <tr>\n",
              "      <th>1</th>\n",
              "      <td>2</td>\n",
              "      <td>L47181</td>\n",
              "      <td>L</td>\n",
              "      <td>298.2</td>\n",
              "      <td>308.7</td>\n",
              "      <td>1408</td>\n",
              "      <td>46.3</td>\n",
              "      <td>3</td>\n",
              "      <td>0</td>\n",
              "      <td>No Failure</td>\n",
              "    </tr>\n",
              "    <tr>\n",
              "      <th>2</th>\n",
              "      <td>3</td>\n",
              "      <td>L47182</td>\n",
              "      <td>L</td>\n",
              "      <td>298.1</td>\n",
              "      <td>308.5</td>\n",
              "      <td>1498</td>\n",
              "      <td>49.4</td>\n",
              "      <td>5</td>\n",
              "      <td>0</td>\n",
              "      <td>No Failure</td>\n",
              "    </tr>\n",
              "    <tr>\n",
              "      <th>3</th>\n",
              "      <td>4</td>\n",
              "      <td>L47183</td>\n",
              "      <td>L</td>\n",
              "      <td>298.2</td>\n",
              "      <td>308.6</td>\n",
              "      <td>1433</td>\n",
              "      <td>39.5</td>\n",
              "      <td>7</td>\n",
              "      <td>0</td>\n",
              "      <td>No Failure</td>\n",
              "    </tr>\n",
              "    <tr>\n",
              "      <th>4</th>\n",
              "      <td>5</td>\n",
              "      <td>L47184</td>\n",
              "      <td>L</td>\n",
              "      <td>298.2</td>\n",
              "      <td>308.7</td>\n",
              "      <td>1408</td>\n",
              "      <td>40.0</td>\n",
              "      <td>9</td>\n",
              "      <td>0</td>\n",
              "      <td>No Failure</td>\n",
              "    </tr>\n",
              "  </tbody>\n",
              "</table>\n",
              "</div>\n",
              "    <div class=\"colab-df-buttons\">\n",
              "\n",
              "  <div class=\"colab-df-container\">\n",
              "    <button class=\"colab-df-convert\" onclick=\"convertToInteractive('df-436616d0-e086-4384-bb3d-d13c90ee91fc')\"\n",
              "            title=\"Convert this dataframe to an interactive table.\"\n",
              "            style=\"display:none;\">\n",
              "\n",
              "  <svg xmlns=\"http://www.w3.org/2000/svg\" height=\"24px\" viewBox=\"0 -960 960 960\">\n",
              "    <path d=\"M120-120v-720h720v720H120Zm60-500h600v-160H180v160Zm220 220h160v-160H400v160Zm0 220h160v-160H400v160ZM180-400h160v-160H180v160Zm440 0h160v-160H620v160ZM180-180h160v-160H180v160Zm440 0h160v-160H620v160Z\"/>\n",
              "  </svg>\n",
              "    </button>\n",
              "\n",
              "  <style>\n",
              "    .colab-df-container {\n",
              "      display:flex;\n",
              "      gap: 12px;\n",
              "    }\n",
              "\n",
              "    .colab-df-convert {\n",
              "      background-color: #E8F0FE;\n",
              "      border: none;\n",
              "      border-radius: 50%;\n",
              "      cursor: pointer;\n",
              "      display: none;\n",
              "      fill: #1967D2;\n",
              "      height: 32px;\n",
              "      padding: 0 0 0 0;\n",
              "      width: 32px;\n",
              "    }\n",
              "\n",
              "    .colab-df-convert:hover {\n",
              "      background-color: #E2EBFA;\n",
              "      box-shadow: 0px 1px 2px rgba(60, 64, 67, 0.3), 0px 1px 3px 1px rgba(60, 64, 67, 0.15);\n",
              "      fill: #174EA6;\n",
              "    }\n",
              "\n",
              "    .colab-df-buttons div {\n",
              "      margin-bottom: 4px;\n",
              "    }\n",
              "\n",
              "    [theme=dark] .colab-df-convert {\n",
              "      background-color: #3B4455;\n",
              "      fill: #D2E3FC;\n",
              "    }\n",
              "\n",
              "    [theme=dark] .colab-df-convert:hover {\n",
              "      background-color: #434B5C;\n",
              "      box-shadow: 0px 1px 3px 1px rgba(0, 0, 0, 0.15);\n",
              "      filter: drop-shadow(0px 1px 2px rgba(0, 0, 0, 0.3));\n",
              "      fill: #FFFFFF;\n",
              "    }\n",
              "  </style>\n",
              "\n",
              "    <script>\n",
              "      const buttonEl =\n",
              "        document.querySelector('#df-436616d0-e086-4384-bb3d-d13c90ee91fc button.colab-df-convert');\n",
              "      buttonEl.style.display =\n",
              "        google.colab.kernel.accessAllowed ? 'block' : 'none';\n",
              "\n",
              "      async function convertToInteractive(key) {\n",
              "        const element = document.querySelector('#df-436616d0-e086-4384-bb3d-d13c90ee91fc');\n",
              "        const dataTable =\n",
              "          await google.colab.kernel.invokeFunction('convertToInteractive',\n",
              "                                                    [key], {});\n",
              "        if (!dataTable) return;\n",
              "\n",
              "        const docLinkHtml = 'Like what you see? Visit the ' +\n",
              "          '<a target=\"_blank\" href=https://colab.research.google.com/notebooks/data_table.ipynb>data table notebook</a>'\n",
              "          + ' to learn more about interactive tables.';\n",
              "        element.innerHTML = '';\n",
              "        dataTable['output_type'] = 'display_data';\n",
              "        await google.colab.output.renderOutput(dataTable, element);\n",
              "        const docLink = document.createElement('div');\n",
              "        docLink.innerHTML = docLinkHtml;\n",
              "        element.appendChild(docLink);\n",
              "      }\n",
              "    </script>\n",
              "  </div>\n",
              "\n",
              "\n",
              "<div id=\"df-c352aec1-c5c9-4f84-9a24-95a4f8ba0680\">\n",
              "  <button class=\"colab-df-quickchart\" onclick=\"quickchart('df-c352aec1-c5c9-4f84-9a24-95a4f8ba0680')\"\n",
              "            title=\"Suggest charts\"\n",
              "            style=\"display:none;\">\n",
              "\n",
              "<svg xmlns=\"http://www.w3.org/2000/svg\" height=\"24px\"viewBox=\"0 0 24 24\"\n",
              "     width=\"24px\">\n",
              "    <g>\n",
              "        <path d=\"M19 3H5c-1.1 0-2 .9-2 2v14c0 1.1.9 2 2 2h14c1.1 0 2-.9 2-2V5c0-1.1-.9-2-2-2zM9 17H7v-7h2v7zm4 0h-2V7h2v10zm4 0h-2v-4h2v4z\"/>\n",
              "    </g>\n",
              "</svg>\n",
              "  </button>\n",
              "\n",
              "<style>\n",
              "  .colab-df-quickchart {\n",
              "      --bg-color: #E8F0FE;\n",
              "      --fill-color: #1967D2;\n",
              "      --hover-bg-color: #E2EBFA;\n",
              "      --hover-fill-color: #174EA6;\n",
              "      --disabled-fill-color: #AAA;\n",
              "      --disabled-bg-color: #DDD;\n",
              "  }\n",
              "\n",
              "  [theme=dark] .colab-df-quickchart {\n",
              "      --bg-color: #3B4455;\n",
              "      --fill-color: #D2E3FC;\n",
              "      --hover-bg-color: #434B5C;\n",
              "      --hover-fill-color: #FFFFFF;\n",
              "      --disabled-bg-color: #3B4455;\n",
              "      --disabled-fill-color: #666;\n",
              "  }\n",
              "\n",
              "  .colab-df-quickchart {\n",
              "    background-color: var(--bg-color);\n",
              "    border: none;\n",
              "    border-radius: 50%;\n",
              "    cursor: pointer;\n",
              "    display: none;\n",
              "    fill: var(--fill-color);\n",
              "    height: 32px;\n",
              "    padding: 0;\n",
              "    width: 32px;\n",
              "  }\n",
              "\n",
              "  .colab-df-quickchart:hover {\n",
              "    background-color: var(--hover-bg-color);\n",
              "    box-shadow: 0 1px 2px rgba(60, 64, 67, 0.3), 0 1px 3px 1px rgba(60, 64, 67, 0.15);\n",
              "    fill: var(--button-hover-fill-color);\n",
              "  }\n",
              "\n",
              "  .colab-df-quickchart-complete:disabled,\n",
              "  .colab-df-quickchart-complete:disabled:hover {\n",
              "    background-color: var(--disabled-bg-color);\n",
              "    fill: var(--disabled-fill-color);\n",
              "    box-shadow: none;\n",
              "  }\n",
              "\n",
              "  .colab-df-spinner {\n",
              "    border: 2px solid var(--fill-color);\n",
              "    border-color: transparent;\n",
              "    border-bottom-color: var(--fill-color);\n",
              "    animation:\n",
              "      spin 1s steps(1) infinite;\n",
              "  }\n",
              "\n",
              "  @keyframes spin {\n",
              "    0% {\n",
              "      border-color: transparent;\n",
              "      border-bottom-color: var(--fill-color);\n",
              "      border-left-color: var(--fill-color);\n",
              "    }\n",
              "    20% {\n",
              "      border-color: transparent;\n",
              "      border-left-color: var(--fill-color);\n",
              "      border-top-color: var(--fill-color);\n",
              "    }\n",
              "    30% {\n",
              "      border-color: transparent;\n",
              "      border-left-color: var(--fill-color);\n",
              "      border-top-color: var(--fill-color);\n",
              "      border-right-color: var(--fill-color);\n",
              "    }\n",
              "    40% {\n",
              "      border-color: transparent;\n",
              "      border-right-color: var(--fill-color);\n",
              "      border-top-color: var(--fill-color);\n",
              "    }\n",
              "    60% {\n",
              "      border-color: transparent;\n",
              "      border-right-color: var(--fill-color);\n",
              "    }\n",
              "    80% {\n",
              "      border-color: transparent;\n",
              "      border-right-color: var(--fill-color);\n",
              "      border-bottom-color: var(--fill-color);\n",
              "    }\n",
              "    90% {\n",
              "      border-color: transparent;\n",
              "      border-bottom-color: var(--fill-color);\n",
              "    }\n",
              "  }\n",
              "</style>\n",
              "\n",
              "  <script>\n",
              "    async function quickchart(key) {\n",
              "      const quickchartButtonEl =\n",
              "        document.querySelector('#' + key + ' button');\n",
              "      quickchartButtonEl.disabled = true;  // To prevent multiple clicks.\n",
              "      quickchartButtonEl.classList.add('colab-df-spinner');\n",
              "      try {\n",
              "        const charts = await google.colab.kernel.invokeFunction(\n",
              "            'suggestCharts', [key], {});\n",
              "      } catch (error) {\n",
              "        console.error('Error during call to suggestCharts:', error);\n",
              "      }\n",
              "      quickchartButtonEl.classList.remove('colab-df-spinner');\n",
              "      quickchartButtonEl.classList.add('colab-df-quickchart-complete');\n",
              "    }\n",
              "    (() => {\n",
              "      let quickchartButtonEl =\n",
              "        document.querySelector('#df-c352aec1-c5c9-4f84-9a24-95a4f8ba0680 button');\n",
              "      quickchartButtonEl.style.display =\n",
              "        google.colab.kernel.accessAllowed ? 'block' : 'none';\n",
              "    })();\n",
              "  </script>\n",
              "</div>\n",
              "\n",
              "    </div>\n",
              "  </div>\n"
            ],
            "application/vnd.google.colaboratory.intrinsic+json": {
              "type": "dataframe",
              "variable_name": "data",
              "summary": "{\n  \"name\": \"data\",\n  \"rows\": 10000,\n  \"fields\": [\n    {\n      \"column\": \"UDI\",\n      \"properties\": {\n        \"dtype\": \"number\",\n        \"std\": 2886,\n        \"min\": 1,\n        \"max\": 10000,\n        \"num_unique_values\": 10000,\n        \"samples\": [\n          6253,\n          4685,\n          1732\n        ],\n        \"semantic_type\": \"\",\n        \"description\": \"\"\n      }\n    },\n    {\n      \"column\": \"Product ID\",\n      \"properties\": {\n        \"dtype\": \"string\",\n        \"num_unique_values\": 10000,\n        \"samples\": [\n          \"L53432\",\n          \"M19544\",\n          \"M16591\"\n        ],\n        \"semantic_type\": \"\",\n        \"description\": \"\"\n      }\n    },\n    {\n      \"column\": \"Type\",\n      \"properties\": {\n        \"dtype\": \"category\",\n        \"num_unique_values\": 3,\n        \"samples\": [\n          \"M\",\n          \"L\",\n          \"H\"\n        ],\n        \"semantic_type\": \"\",\n        \"description\": \"\"\n      }\n    },\n    {\n      \"column\": \"Air temperature [K]\",\n      \"properties\": {\n        \"dtype\": \"number\",\n        \"std\": 2.0002586829157574,\n        \"min\": 295.3,\n        \"max\": 304.5,\n        \"num_unique_values\": 93,\n        \"samples\": [\n          299.3,\n          296.9,\n          300.8\n        ],\n        \"semantic_type\": \"\",\n        \"description\": \"\"\n      }\n    },\n    {\n      \"column\": \"Process temperature [K]\",\n      \"properties\": {\n        \"dtype\": \"number\",\n        \"std\": 1.4837342191657419,\n        \"min\": 305.7,\n        \"max\": 313.8,\n        \"num_unique_values\": 82,\n        \"samples\": [\n          307.2,\n          308.6,\n          310.1\n        ],\n        \"semantic_type\": \"\",\n        \"description\": \"\"\n      }\n    },\n    {\n      \"column\": \"Rotational speed [rpm]\",\n      \"properties\": {\n        \"dtype\": \"number\",\n        \"std\": 179,\n        \"min\": 1168,\n        \"max\": 2886,\n        \"num_unique_values\": 941,\n        \"samples\": [\n          1274,\n          1576,\n          2010\n        ],\n        \"semantic_type\": \"\",\n        \"description\": \"\"\n      }\n    },\n    {\n      \"column\": \"Torque [Nm]\",\n      \"properties\": {\n        \"dtype\": \"number\",\n        \"std\": 9.968933725121401,\n        \"min\": 3.8,\n        \"max\": 76.6,\n        \"num_unique_values\": 577,\n        \"samples\": [\n          36.1,\n          65.9,\n          12.6\n        ],\n        \"semantic_type\": \"\",\n        \"description\": \"\"\n      }\n    },\n    {\n      \"column\": \"Tool wear [min]\",\n      \"properties\": {\n        \"dtype\": \"number\",\n        \"std\": 63,\n        \"min\": 0,\n        \"max\": 253,\n        \"num_unique_values\": 246,\n        \"samples\": [\n          93,\n          14,\n          215\n        ],\n        \"semantic_type\": \"\",\n        \"description\": \"\"\n      }\n    },\n    {\n      \"column\": \"Target\",\n      \"properties\": {\n        \"dtype\": \"number\",\n        \"std\": 0,\n        \"min\": 0,\n        \"max\": 1,\n        \"num_unique_values\": 2,\n        \"samples\": [\n          1,\n          0\n        ],\n        \"semantic_type\": \"\",\n        \"description\": \"\"\n      }\n    },\n    {\n      \"column\": \"Failure Type\",\n      \"properties\": {\n        \"dtype\": \"category\",\n        \"num_unique_values\": 6,\n        \"samples\": [\n          \"No Failure\",\n          \"Power Failure\"\n        ],\n        \"semantic_type\": \"\",\n        \"description\": \"\"\n      }\n    }\n  ]\n}"
            }
          },
          "metadata": {},
          "execution_count": 23
        }
      ],
      "source": [
        "data.head()"
      ]
    },
    {
      "cell_type": "markdown",
      "metadata": {
        "id": "QetViXhOqx_z"
      },
      "source": [
        "#Columns of the dataset"
      ]
    },
    {
      "cell_type": "code",
      "execution_count": 27,
      "metadata": {
        "colab": {
          "base_uri": "https://localhost:8080/",
          "height": 0
        },
        "id": "T_EUu3dKSX9t",
        "outputId": "e0357774-a959-4d72-d601-58f521f935e5"
      },
      "outputs": [
        {
          "output_type": "execute_result",
          "data": {
            "text/plain": [
              "Index(['UDI', 'Product_ID', 'Type', 'Air_temperature_K',\n",
              "       'Process_temperature_K', 'Rotational_speed_rpm', 'Torque_Nm',\n",
              "       'Tool_wear_min', 'Target', 'Failure_Type'],\n",
              "      dtype='object')"
            ]
          },
          "metadata": {},
          "execution_count": 27
        }
      ],
      "source": [
        "data.columns"
      ]
    },
    {
      "cell_type": "markdown",
      "metadata": {
        "id": "tuoku50Hyrye"
      },
      "source": [
        "##Preprocessing  techniques"
      ]
    },
    {
      "cell_type": "code",
      "execution_count": 28,
      "metadata": {
        "colab": {
          "base_uri": "https://localhost:8080/",
          "height": 0
        },
        "id": "syW0CRA7yl0U",
        "outputId": "654adb0c-e92f-4ea5-e7d3-360fcd19d275"
      },
      "outputs": [
        {
          "output_type": "stream",
          "name": "stdout",
          "text": [
            "   UDI Product_ID Type  Air_temperature_K  Process_temperature_K  \\\n",
            "0    1     M14860    M              298.1                  308.6   \n",
            "1    2     L47181    L              298.2                  308.7   \n",
            "2    3     L47182    L              298.1                  308.5   \n",
            "3    4     L47183    L              298.2                  308.6   \n",
            "4    5     L47184    L              298.2                  308.7   \n",
            "\n",
            "   Rotational_speed_rpm  Torque_Nm  Tool_wear_min  Target Failure_Type  \n",
            "0                  1551       42.8              0       0   No Failure  \n",
            "1                  1408       46.3              3       0   No Failure  \n",
            "2                  1498       49.4              5       0   No Failure  \n",
            "3                  1433       39.5              7       0   No Failure  \n",
            "4                  1408       40.0              9       0   No Failure  \n"
          ]
        }
      ],
      "source": [
        "# Rename the columns in the dataset\n",
        "data.columns = data.columns.str.replace(' ', '_').str.replace('[', '').str.replace(']', '')\n",
        "\n",
        "# Show the updated dataset with modified column names\n",
        "print(data.head())"
      ]
    },
    {
      "cell_type": "markdown",
      "metadata": {
        "id": "RvL4jKoZq3Zt"
      },
      "source": [
        "#Split the dataset to separate class label and features to predict runtime as it is not in dataset"
      ]
    },
    {
      "cell_type": "code",
      "execution_count": 29,
      "metadata": {
        "id": "UAr0VzWxrB2Y"
      },
      "outputs": [],
      "source": [
        "from sklearn.linear_model import LinearRegression\n",
        "\n",
        "# Prepare data for regression\n",
        "X = data[['Air_temperature_K', 'Process_temperature_K', 'Rotational_speed_rpm', 'Torque_Nm']]\n",
        "y = data['Tool_wear_min']  # Tool wear as a proxy for runtime"
      ]
    },
    {
      "cell_type": "markdown",
      "metadata": {
        "id": "HRK021W_rTo2"
      },
      "source": [
        "#Build the model to get runtime values and add that column to the dataset"
      ]
    },
    {
      "cell_type": "code",
      "execution_count": 30,
      "metadata": {
        "id": "f65n7fFTr3YZ"
      },
      "outputs": [],
      "source": [
        "# Train-test split\n",
        "from sklearn.model_selection import train_test_split\n",
        "X_train, X_test, y_train, y_test = train_test_split(X, y, test_size=0.2, random_state=42)# Initialize the linear regression model\n",
        "model = LinearRegression()\n",
        "\n",
        "# Fit the model to the training data\n",
        "model.fit(X_train, y_train)\n",
        "\n",
        "# Predict runtime on the whole dataset\n",
        "data['Predicted_Runtime'] = model.predict(X)"
      ]
    },
    {
      "cell_type": "markdown",
      "metadata": {
        "id": "IGD9gt2qr5mn"
      },
      "source": [
        "##Dataset after having all required features"
      ]
    },
    {
      "cell_type": "code",
      "execution_count": 31,
      "metadata": {
        "colab": {
          "base_uri": "https://localhost:8080/",
          "height": 0
        },
        "id": "RLoyiK1pnnCa",
        "outputId": "32a211db-0102-4f46-c1fe-3659b45502c4"
      },
      "outputs": [
        {
          "output_type": "stream",
          "name": "stdout",
          "text": [
            "   UDI Product_ID Type  Air_temperature_K  Process_temperature_K  \\\n",
            "0    1     M14860    M              298.1                  308.6   \n",
            "1    2     L47181    L              298.2                  308.7   \n",
            "2    3     L47182    L              298.1                  308.5   \n",
            "3    4     L47183    L              298.2                  308.6   \n",
            "4    5     L47184    L              298.2                  308.7   \n",
            "\n",
            "   Rotational_speed_rpm  Torque_Nm  Tool_wear_min  Target Failure_Type  \\\n",
            "0                  1551       42.8              0       0   No Failure   \n",
            "1                  1408       46.3              3       0   No Failure   \n",
            "2                  1498       49.4              5       0   No Failure   \n",
            "3                  1433       39.5              7       0   No Failure   \n",
            "4                  1408       40.0              9       0   No Failure   \n",
            "\n",
            "   Predicted_Runtime  \n",
            "0         107.707956  \n",
            "1         108.462129  \n",
            "2         107.357169  \n",
            "3         109.183247  \n",
            "4         109.281120  \n"
          ]
        }
      ],
      "source": [
        "\n",
        "# Check the first few rows of the dataset to ensure the new column is added\n",
        "print(data.head())"
      ]
    },
    {
      "cell_type": "markdown",
      "metadata": {
        "id": "erhAN0PZsCrY"
      },
      "source": [
        "#Checking for null values in the dataset"
      ]
    },
    {
      "cell_type": "code",
      "execution_count": 32,
      "metadata": {
        "colab": {
          "base_uri": "https://localhost:8080/",
          "height": 0
        },
        "id": "Z0rOp3vMjtBg",
        "outputId": "1dce495e-a25e-4c3b-c3a9-e41103a6197b"
      },
      "outputs": [
        {
          "output_type": "stream",
          "name": "stdout",
          "text": [
            "UDI                      0\n",
            "Product_ID               0\n",
            "Type                     0\n",
            "Air_temperature_K        0\n",
            "Process_temperature_K    0\n",
            "Rotational_speed_rpm     0\n",
            "Torque_Nm                0\n",
            "Tool_wear_min            0\n",
            "Target                   0\n",
            "Failure_Type             0\n",
            "Predicted_Runtime        0\n",
            "dtype: int64\n"
          ]
        }
      ],
      "source": [
        "# Check for null values in the dataset\n",
        "print(data.isnull().sum())"
      ]
    },
    {
      "cell_type": "markdown",
      "metadata": {
        "id": "4liskDNhsPVq"
      },
      "source": [
        "#Converting String into numerical values"
      ]
    },
    {
      "cell_type": "code",
      "execution_count": 34,
      "metadata": {
        "colab": {
          "base_uri": "https://localhost:8080/",
          "height": 0
        },
        "id": "Fy0pKEhcfMQi",
        "outputId": "2e76e0b1-ff5e-49a1-e324-48a6309603f7"
      },
      "outputs": [
        {
          "output_type": "stream",
          "name": "stdout",
          "text": [
            "        UDI  Product_ID  Type  Air_temperature_K  Process_temperature_K  \\\n",
            "0         1        7003     2              298.1                  308.6   \n",
            "1         2        1003     1              298.2                  308.7   \n",
            "2         3        1004     1              298.1                  308.5   \n",
            "3         4        1005     1              298.2                  308.6   \n",
            "4         5        1006     1              298.2                  308.7   \n",
            "...     ...         ...   ...                ...                    ...   \n",
            "9995   9996        9997     2              298.8                  308.4   \n",
            "9996   9997        1001     0              298.9                  308.4   \n",
            "9997   9998        9998     2              299.0                  308.6   \n",
            "9998   9999        1002     0              299.0                  308.7   \n",
            "9999  10000        9999     2              299.0                  308.7   \n",
            "\n",
            "      Rotational_speed_rpm  Torque_Nm  Tool_wear_min  Target  Failure_Type  \\\n",
            "0                     1551       42.8              0       0             1   \n",
            "1                     1408       46.3              3       0             1   \n",
            "2                     1498       49.4              5       0             1   \n",
            "3                     1433       39.5              7       0             1   \n",
            "4                     1408       40.0              9       0             1   \n",
            "...                    ...        ...            ...     ...           ...   \n",
            "9995                  1604       29.5             14       0             1   \n",
            "9996                  1632       31.8             17       0             1   \n",
            "9997                  1645       33.4             22       0             1   \n",
            "9998                  1408       48.5             25       0             1   \n",
            "9999                  1500       40.2             30       0             1   \n",
            "\n",
            "      Predicted_Runtime  \n",
            "0            107.707956  \n",
            "1            108.462129  \n",
            "2            107.357169  \n",
            "3            109.183247  \n",
            "4            109.281120  \n",
            "...                 ...  \n",
            "9995         109.313575  \n",
            "9996         108.806633  \n",
            "9997         108.415757  \n",
            "9998         108.436880  \n",
            "9999         108.725523  \n",
            "\n",
            "[10000 rows x 11 columns]\n"
          ]
        }
      ],
      "source": [
        " from sklearn import preprocessing\n",
        " le = preprocessing.LabelEncoder()\n",
        " le.fit(data.Product_ID)\n",
        " data['Product_ID'] = le.transform(data.Product_ID)\n",
        "\n",
        " le = preprocessing.LabelEncoder()\n",
        " le.fit(data.Type)\n",
        " data['Type'] = le.transform(data.Type)\n",
        "\n",
        " le = preprocessing.LabelEncoder()\n",
        " le.fit(data.Failure_Type)\n",
        " data['Failure_Type'] = le.transform(data.Failure_Type)\n",
        "\n",
        " print(data)"
      ]
    },
    {
      "cell_type": "markdown",
      "metadata": {
        "id": "iT7imOYixDxB"
      },
      "source": [
        "#Changing Attribut names according to the specified input [Machine_ID, Temperature, Run_Time]"
      ]
    },
    {
      "cell_type": "code",
      "execution_count": 35,
      "metadata": {
        "id": "5JtF2X8bxDAy"
      },
      "outputs": [],
      "source": [
        "data.rename(columns={\"Product_ID\": \"Machine_ID\"}, inplace=True)\n",
        "data.rename(columns={\"Process_temperature_K\": \"Temperature\"}, inplace=True)\n",
        "data.rename(columns={\"Predicted_Runtime\": \"Run_Time\"}, inplace=True)\n",
        "data.rename(columns={\"Target\": \"Downtime_Flag\"}, inplace=True)"
      ]
    },
    {
      "cell_type": "markdown",
      "source": [
        "\n",
        "# Check the class distribution in the 'Downtime_Flag' column"
      ],
      "metadata": {
        "id": "Yo4HVSfX64Sz"
      }
    },
    {
      "cell_type": "code",
      "source": [
        "class_counts = data['Downtime_Flag'].value_counts()"
      ],
      "metadata": {
        "id": "X9snY2v_2CG9"
      },
      "execution_count": 38,
      "outputs": []
    },
    {
      "cell_type": "markdown",
      "source": [
        "# Printing the class distribution"
      ],
      "metadata": {
        "id": "MSFyqptZ67Mp"
      }
    },
    {
      "cell_type": "code",
      "source": [
        "print(\"Class distribution:\")\n",
        "print(class_counts)"
      ],
      "metadata": {
        "colab": {
          "base_uri": "https://localhost:8080/",
          "height": 0
        },
        "id": "gR_e3xSe2Es8",
        "outputId": "86c2c04d-818f-4b41-d0fd-eda4e6957366"
      },
      "execution_count": 39,
      "outputs": [
        {
          "output_type": "stream",
          "name": "stdout",
          "text": [
            "Class distribution:\n",
            "Downtime_Flag\n",
            "0    9661\n",
            "1     339\n",
            "Name: count, dtype: int64\n"
          ]
        }
      ]
    },
    {
      "cell_type": "markdown",
      "source": [
        "\n",
        "# Visualize the class distribution"
      ],
      "metadata": {
        "id": "jt3DSjKf6_oS"
      }
    },
    {
      "cell_type": "code",
      "source": [
        "import matplotlib.pyplot as plt\n",
        "\n",
        "class_counts.plot(kind='bar')\n",
        "plt.title('Class Distribution in Downtime_Flag')\n",
        "plt.xlabel('Class (Downtime)')\n",
        "plt.ylabel('Count')\n",
        "plt.xticks(rotation=0)\n",
        "plt.show()\n"
      ],
      "metadata": {
        "colab": {
          "base_uri": "https://localhost:8080/",
          "height": 472
        },
        "id": "3CmzmF-l16fK",
        "outputId": "79e24851-d209-4e17-8ae8-dc11ae19ac27"
      },
      "execution_count": 41,
      "outputs": [
        {
          "output_type": "display_data",
          "data": {
            "text/plain": [
              "<Figure size 640x480 with 1 Axes>"
            ],
            "image/png": "[encoded data removed]"
          },
          "metadata": {}
        }
      ]
    },
    {
      "cell_type": "markdown",
      "source": [
        "#TO balance the Class Lables"
      ],
      "metadata": {
        "id": "beuqh4Oz7D5E"
      }
    },
    {
      "cell_type": "code",
      "source": [
        "pip install imbalanced-learn\n"
      ],
      "metadata": {
        "colab": {
          "base_uri": "https://localhost:8080/",
          "height": 0
        },
        "id": "uU1E-vng2fbz",
        "outputId": "f91efc62-4856-4cf7-a9bd-ff6bb0ee8a1e"
      },
      "execution_count": 42,
      "outputs": [
        {
          "output_type": "stream",
          "name": "stdout",
          "text": [
            "Requirement already satisfied: imbalanced-learn in /usr/local/lib/python3.11/dist-packages (0.13.0)\n",
            "Requirement already satisfied: numpy<3,>=1.24.3 in /usr/local/lib/python3.11/dist-packages (from imbalanced-learn) (1.26.4)\n",
            "Requirement already satisfied: scipy<2,>=1.10.1 in /usr/local/lib/python3.11/dist-packages (from imbalanced-learn) (1.13.1)\n",
            "Requirement already satisfied: scikit-learn<2,>=1.3.2 in /usr/local/lib/python3.11/dist-packages (from imbalanced-learn) (1.6.0)\n",
            "Requirement already satisfied: sklearn-compat<1,>=0.1 in /usr/local/lib/python3.11/dist-packages (from imbalanced-learn) (0.1.3)\n",
            "Requirement already satisfied: joblib<2,>=1.1.1 in /usr/local/lib/python3.11/dist-packages (from imbalanced-learn) (1.4.2)\n",
            "Requirement already satisfied: threadpoolctl<4,>=2.0.0 in /usr/local/lib/python3.11/dist-packages (from imbalanced-learn) (3.5.0)\n"
          ]
        }
      ]
    },
    {
      "cell_type": "markdown",
      "source": [
        "#Adding random rows to balance the Class Lables"
      ],
      "metadata": {
        "id": "GVqUi7Vj7Kbn"
      }
    },
    {
      "cell_type": "code",
      "source": [
        "from imblearn.over_sampling import RandomOverSampler\n",
        "\n",
        "# Random Oversampling to balance the classes\n",
        "oversampler = RandomOverSampler(sampling_strategy='auto', random_state=42)\n",
        "X_resampled, y_resampled = oversampler.fit_resample(X_train, y_train)\n",
        "\n",
        "# Check the new distribution\n",
        "print(\"Resampled Class Distribution (Oversampling):\")\n",
        "print(pd.Series(y_resampled).value_counts())\n"
      ],
      "metadata": {
        "colab": {
          "base_uri": "https://localhost:8080/",
          "height": 0
        },
        "id": "oiQmajR52oxy",
        "outputId": "bf97b0ea-9a22-47a9-d6d2-fb8d48c90aee"
      },
      "execution_count": 45,
      "outputs": [
        {
          "output_type": "stream",
          "name": "stdout",
          "text": [
            "Resampled Class Distribution (Oversampling):\n",
            "Tool_wear_min\n",
            "195    95\n",
            "222    95\n",
            "53     95\n",
            "107    95\n",
            "143    95\n",
            "       ..\n",
            "47     95\n",
            "131    95\n",
            "165    95\n",
            "183    95\n",
            "236    95\n",
            "Name: count, Length: 245, dtype: int64\n"
          ]
        }
      ]
    },
    {
      "cell_type": "markdown",
      "metadata": {
        "id": "yBqTQVknslb8"
      },
      "source": [
        "#Finding the correlation between each attributes"
      ]
    },
    {
      "cell_type": "code",
      "execution_count": null,
      "metadata": {
        "colab": {
          "base_uri": "https://localhost:8080/",
          "height": 395
        },
        "id": "uHX7aVMPSfeP",
        "outputId": "2944038e-460f-4479-b3f5-159ef9e67ae7"
      },
      "outputs": [
        {
          "data": {
            "application/vnd.google.colaboratory.intrinsic+json": {
              "summary": "{\n  \"name\": \"corr\",\n  \"rows\": 11,\n  \"fields\": [\n    {\n      \"column\": \"UDI\",\n      \"properties\": {\n        \"dtype\": \"number\",\n        \"std\": 0.3348159220635565,\n        \"min\": -0.20097804826916868,\n        \"max\": 1.0,\n        \"num_unique_values\": 11,\n        \"samples\": [\n          -0.006614868271097227,\n          1.0,\n          -0.002151754260979895\n        ],\n        \"semantic_type\": \"\",\n        \"description\": \"\"\n      }\n    },\n    {\n      \"column\": \"Machine_ID\",\n      \"properties\": {\n        \"dtype\": \"number\",\n        \"std\": 0.38307373817962503,\n        \"min\": -0.09166563304961062,\n        \"max\": 1.0,\n        \"num_unique_values\": 11,\n        \"samples\": [\n          -0.006475741433589971,\n          0.463157768603576,\n          -0.006580008782771083\n        ],\n        \"semantic_type\": \"\",\n        \"description\": \"\"\n      }\n    },\n    {\n      \"column\": \"Type\",\n      \"properties\": {\n        \"dtype\": \"number\",\n        \"std\": 0.37777530794789504,\n        \"min\": -0.008248582333500008,\n        \"max\": 1.0,\n        \"num_unique_values\": 11,\n        \"samples\": [\n          -0.0026928623230260897,\n          0.005528540744666763,\n          -0.008248582333500008\n        ],\n        \"semantic_type\": \"\",\n        \"description\": \"\"\n      }\n    },\n    {\n      \"column\": \"Air_temperature_K\",\n      \"properties\": {\n        \"dtype\": \"number\",\n        \"std\": 0.3730617405002459,\n        \"min\": -0.04772850860049205,\n        \"max\": 1.0,\n        \"num_unique_values\": 11,\n        \"samples\": [\n          0.022670458795535774,\n          0.11742794602012077,\n          -0.025327450492232232\n        ],\n        \"semantic_type\": \"\",\n        \"description\": \"\"\n      }\n    },\n    {\n      \"column\": \"Temperature\",\n      \"properties\": {\n        \"dtype\": \"number\",\n        \"std\": 0.3919042184451591,\n        \"min\": -0.2527406261181289,\n        \"max\": 1.0,\n        \"num_unique_values\": 11,\n        \"samples\": [\n          0.019276713901797683,\n          0.32442814519255553,\n          -0.004599795482419955\n        ],\n        \"semantic_type\": \"\",\n        \"description\": \"\"\n      }\n    },\n    {\n      \"column\": \"Rotational_speed_rpm\",\n      \"properties\": {\n        \"dtype\": \"number\",\n        \"std\": 0.44777637380442337,\n        \"min\": -0.8750270862996037,\n        \"max\": 1.0,\n        \"num_unique_values\": 11,\n        \"samples\": [\n          1.0,\n          -0.006614868271097227,\n          0.07940682407990195\n        ],\n        \"semantic_type\": \"\",\n        \"description\": \"\"\n      }\n    },\n    {\n      \"column\": \"Torque_Nm\",\n      \"properties\": {\n        \"dtype\": \"number\",\n        \"std\": 0.4235313082269722,\n        \"min\": -0.8750270862996037,\n        \"max\": 1.0,\n        \"num_unique_values\": 11,\n        \"samples\": [\n          -0.8750270862996037,\n          0.0032065864720409163,\n          0.03173728892569988\n        ],\n        \"semantic_type\": \"\",\n        \"description\": \"\"\n      }\n    },\n    {\n      \"column\": \"Tool_wear_min\",\n      \"properties\": {\n        \"dtype\": \"number\",\n        \"std\": 0.29821978770408025,\n        \"min\": -0.01160335001100914,\n        \"max\": 1.0,\n        \"num_unique_values\": 11,\n        \"samples\": [\n          0.00022308484018726584,\n          -0.010702006592224334,\n          0.11161858036276646\n        ],\n        \"semantic_type\": \"\",\n        \"description\": \"\"\n      }\n    },\n    {\n      \"column\": \"Downtime_Flag\",\n      \"properties\": {\n        \"dtype\": \"number\",\n        \"std\": 0.32832803229093077,\n        \"min\": -0.18477786073967326,\n        \"max\": 1.0,\n        \"num_unique_values\": 11,\n        \"samples\": [\n          -0.044187559734375326,\n          -0.02289180554800686,\n          0.47054128404897666\n        ],\n        \"semantic_type\": \"\",\n        \"description\": \"\"\n      }\n    },\n    {\n      \"column\": \"Failure_Type\",\n      \"properties\": {\n        \"dtype\": \"number\",\n        \"std\": 0.33164238518597805,\n        \"min\": -0.2120123008778452,\n        \"max\": 1.0,\n        \"num_unique_values\": 11,\n        \"samples\": [\n          0.07940682407990195,\n          -0.002151754260979895,\n          1.0\n        ],\n        \"semantic_type\": \"\",\n        \"description\": \"\"\n      }\n    },\n    {\n      \"column\": \"Run_Time\",\n      \"properties\": {\n        \"dtype\": \"number\",\n        \"std\": 0.3769950798939793,\n        \"min\": -0.48826415490606984,\n        \"max\": 1.0,\n        \"num_unique_values\": 11,\n        \"samples\": [\n          -0.48826415490606984,\n          -0.20097804826916868,\n          -0.2120123008778452\n        ],\n        \"semantic_type\": \"\",\n        \"description\": \"\"\n      }\n    }\n  ]\n}",
              "type": "dataframe",
              "variable_name": "corr"
            },
            "text/html": [
              "\n",
              "  <div id=\"df-d3199d8c-6116-403e-a91b-16077802a77b\" class=\"colab-df-container\">\n",
              "    <div>\n",
              "<style scoped>\n",
              "    .dataframe tbody tr th:only-of-type {\n",
              "        vertical-align: middle;\n",
              "    }\n",
              "\n",
              "    .dataframe tbody tr th {\n",
              "        vertical-align: top;\n",
              "    }\n",
              "\n",
              "    .dataframe thead th {\n",
              "        text-align: right;\n",
              "    }\n",
              "</style>\n",
              "<table border=\"1\" class=\"dataframe\">\n",
              "  <thead>\n",
              "    <tr style=\"text-align: right;\">\n",
              "      <th></th>\n",
              "      <th>UDI</th>\n",
              "      <th>Machine_ID</th>\n",
              "      <th>Type</th>\n",
              "      <th>Air_temperature_K</th>\n",
              "      <th>Temperature</th>\n",
              "      <th>Rotational_speed_rpm</th>\n",
              "      <th>Torque_Nm</th>\n",
              "      <th>Tool_wear_min</th>\n",
              "      <th>Downtime_Flag</th>\n",
              "      <th>Failure_Type</th>\n",
              "      <th>Run_Time</th>\n",
              "    </tr>\n",
              "  </thead>\n",
              "  <tbody>\n",
              "    <tr>\n",
              "      <th>UDI</th>\n",
              "      <td>1.000000</td>\n",
              "      <td>0.463158</td>\n",
              "      <td>0.005529</td>\n",
              "      <td>0.117428</td>\n",
              "      <td>0.324428</td>\n",
              "      <td>-0.006615</td>\n",
              "      <td>0.003207</td>\n",
              "      <td>-0.010702</td>\n",
              "      <td>-0.022892</td>\n",
              "      <td>-0.002152</td>\n",
              "      <td>-0.200978</td>\n",
              "    </tr>\n",
              "    <tr>\n",
              "      <th>Machine_ID</th>\n",
              "      <td>0.463158</td>\n",
              "      <td>1.000000</td>\n",
              "      <td>0.866083</td>\n",
              "      <td>0.067602</td>\n",
              "      <td>0.160825</td>\n",
              "      <td>-0.006476</td>\n",
              "      <td>0.005000</td>\n",
              "      <td>-0.011603</td>\n",
              "      <td>-0.016975</td>\n",
              "      <td>-0.006580</td>\n",
              "      <td>-0.091666</td>\n",
              "    </tr>\n",
              "    <tr>\n",
              "      <th>Type</th>\n",
              "      <td>0.005529</td>\n",
              "      <td>0.866083</td>\n",
              "      <td>1.000000</td>\n",
              "      <td>0.017599</td>\n",
              "      <td>0.013444</td>\n",
              "      <td>-0.002693</td>\n",
              "      <td>0.004011</td>\n",
              "      <td>-0.003930</td>\n",
              "      <td>-0.005152</td>\n",
              "      <td>-0.008249</td>\n",
              "      <td>0.000085</td>\n",
              "    </tr>\n",
              "    <tr>\n",
              "      <th>Air_temperature_K</th>\n",
              "      <td>0.117428</td>\n",
              "      <td>0.067602</td>\n",
              "      <td>0.017599</td>\n",
              "      <td>1.000000</td>\n",
              "      <td>0.876107</td>\n",
              "      <td>0.022670</td>\n",
              "      <td>-0.013778</td>\n",
              "      <td>0.013853</td>\n",
              "      <td>0.082556</td>\n",
              "      <td>-0.025327</td>\n",
              "      <td>-0.047729</td>\n",
              "    </tr>\n",
              "    <tr>\n",
              "      <th>Temperature</th>\n",
              "      <td>0.324428</td>\n",
              "      <td>0.160825</td>\n",
              "      <td>0.013444</td>\n",
              "      <td>0.876107</td>\n",
              "      <td>1.000000</td>\n",
              "      <td>0.019277</td>\n",
              "      <td>-0.014061</td>\n",
              "      <td>0.013488</td>\n",
              "      <td>0.035946</td>\n",
              "      <td>-0.004600</td>\n",
              "      <td>-0.252741</td>\n",
              "    </tr>\n",
              "    <tr>\n",
              "      <th>Rotational_speed_rpm</th>\n",
              "      <td>-0.006615</td>\n",
              "      <td>-0.006476</td>\n",
              "      <td>-0.002693</td>\n",
              "      <td>0.022670</td>\n",
              "      <td>0.019277</td>\n",
              "      <td>1.000000</td>\n",
              "      <td>-0.875027</td>\n",
              "      <td>0.000223</td>\n",
              "      <td>-0.044188</td>\n",
              "      <td>0.079407</td>\n",
              "      <td>-0.488264</td>\n",
              "    </tr>\n",
              "    <tr>\n",
              "      <th>Torque_Nm</th>\n",
              "      <td>0.003207</td>\n",
              "      <td>0.005000</td>\n",
              "      <td>0.004011</td>\n",
              "      <td>-0.013778</td>\n",
              "      <td>-0.014061</td>\n",
              "      <td>-0.875027</td>\n",
              "      <td>1.000000</td>\n",
              "      <td>-0.003093</td>\n",
              "      <td>0.191321</td>\n",
              "      <td>0.031737</td>\n",
              "      <td>0.064413</td>\n",
              "    </tr>\n",
              "    <tr>\n",
              "      <th>Tool_wear_min</th>\n",
              "      <td>-0.010702</td>\n",
              "      <td>-0.011603</td>\n",
              "      <td>-0.003930</td>\n",
              "      <td>0.013853</td>\n",
              "      <td>0.013488</td>\n",
              "      <td>0.000223</td>\n",
              "      <td>-0.003093</td>\n",
              "      <td>1.000000</td>\n",
              "      <td>0.105448</td>\n",
              "      <td>0.111619</td>\n",
              "      <td>0.002777</td>\n",
              "    </tr>\n",
              "    <tr>\n",
              "      <th>Downtime_Flag</th>\n",
              "      <td>-0.022892</td>\n",
              "      <td>-0.016975</td>\n",
              "      <td>-0.005152</td>\n",
              "      <td>0.082556</td>\n",
              "      <td>0.035946</td>\n",
              "      <td>-0.044188</td>\n",
              "      <td>0.191321</td>\n",
              "      <td>0.105448</td>\n",
              "      <td>1.000000</td>\n",
              "      <td>0.470541</td>\n",
              "      <td>-0.184778</td>\n",
              "    </tr>\n",
              "    <tr>\n",
              "      <th>Failure_Type</th>\n",
              "      <td>-0.002152</td>\n",
              "      <td>-0.006580</td>\n",
              "      <td>-0.008249</td>\n",
              "      <td>-0.025327</td>\n",
              "      <td>-0.004600</td>\n",
              "      <td>0.079407</td>\n",
              "      <td>0.031737</td>\n",
              "      <td>0.111619</td>\n",
              "      <td>0.470541</td>\n",
              "      <td>1.000000</td>\n",
              "      <td>-0.212012</td>\n",
              "    </tr>\n",
              "    <tr>\n",
              "      <th>Run_Time</th>\n",
              "      <td>-0.200978</td>\n",
              "      <td>-0.091666</td>\n",
              "      <td>0.000085</td>\n",
              "      <td>-0.047729</td>\n",
              "      <td>-0.252741</td>\n",
              "      <td>-0.488264</td>\n",
              "      <td>0.064413</td>\n",
              "      <td>0.002777</td>\n",
              "      <td>-0.184778</td>\n",
              "      <td>-0.212012</td>\n",
              "      <td>1.000000</td>\n",
              "    </tr>\n",
              "  </tbody>\n",
              "</table>\n",
              "</div>\n",
              "    <div class=\"colab-df-buttons\">\n",
              "\n",
              "  <div class=\"colab-df-container\">\n",
              "    <button class=\"colab-df-convert\" onclick=\"convertToInteractive('df-d3199d8c-6116-403e-a91b-16077802a77b')\"\n",
              "            title=\"Convert this dataframe to an interactive table.\"\n",
              "            style=\"display:none;\">\n",
              "\n",
              "  <svg xmlns=\"http://www.w3.org/2000/svg\" height=\"24px\" viewBox=\"0 -960 960 960\">\n",
              "    <path d=\"M120-120v-720h720v720H120Zm60-500h600v-160H180v160Zm220 220h160v-160H400v160Zm0 220h160v-160H400v160ZM180-400h160v-160H180v160Zm440 0h160v-160H620v160ZM180-180h160v-160H180v160Zm440 0h160v-160H620v160Z\"/>\n",
              "  </svg>\n",
              "    </button>\n",
              "\n",
              "  <style>\n",
              "    .colab-df-container {\n",
              "      display:flex;\n",
              "      gap: 12px;\n",
              "    }\n",
              "\n",
              "    .colab-df-convert {\n",
              "      background-color: #E8F0FE;\n",
              "      border: none;\n",
              "      border-radius: 50%;\n",
              "      cursor: pointer;\n",
              "      display: none;\n",
              "      fill: #1967D2;\n",
              "      height: 32px;\n",
              "      padding: 0 0 0 0;\n",
              "      width: 32px;\n",
              "    }\n",
              "\n",
              "    .colab-df-convert:hover {\n",
              "      background-color: #E2EBFA;\n",
              "      box-shadow: 0px 1px 2px rgba(60, 64, 67, 0.3), 0px 1px 3px 1px rgba(60, 64, 67, 0.15);\n",
              "      fill: #174EA6;\n",
              "    }\n",
              "\n",
              "    .colab-df-buttons div {\n",
              "      margin-bottom: 4px;\n",
              "    }\n",
              "\n",
              "    [theme=dark] .colab-df-convert {\n",
              "      background-color: #3B4455;\n",
              "      fill: #D2E3FC;\n",
              "    }\n",
              "\n",
              "    [theme=dark] .colab-df-convert:hover {\n",
              "      background-color: #434B5C;\n",
              "      box-shadow: 0px 1px 3px 1px rgba(0, 0, 0, 0.15);\n",
              "      filter: drop-shadow(0px 1px 2px rgba(0, 0, 0, 0.3));\n",
              "      fill: #FFFFFF;\n",
              "    }\n",
              "  </style>\n",
              "\n",
              "    <script>\n",
              "      const buttonEl =\n",
              "        document.querySelector('#df-d3199d8c-6116-403e-a91b-16077802a77b button.colab-df-convert');\n",
              "      buttonEl.style.display =\n",
              "        google.colab.kernel.accessAllowed ? 'block' : 'none';\n",
              "\n",
              "      async function convertToInteractive(key) {\n",
              "        const element = document.querySelector('#df-d3199d8c-6116-403e-a91b-16077802a77b');\n",
              "        const dataTable =\n",
              "          await google.colab.kernel.invokeFunction('convertToInteractive',\n",
              "                                                    [key], {});\n",
              "        if (!dataTable) return;\n",
              "\n",
              "        const docLinkHtml = 'Like what you see? Visit the ' +\n",
              "          '<a target=\"_blank\" href=https://colab.research.google.com/notebooks/data_table.ipynb>data table notebook</a>'\n",
              "          + ' to learn more about interactive tables.';\n",
              "        element.innerHTML = '';\n",
              "        dataTable['output_type'] = 'display_data';\n",
              "        await google.colab.output.renderOutput(dataTable, element);\n",
              "        const docLink = document.createElement('div');\n",
              "        docLink.innerHTML = docLinkHtml;\n",
              "        element.appendChild(docLink);\n",
              "      }\n",
              "    </script>\n",
              "  </div>\n",
              "\n",
              "\n",
              "<div id=\"df-f9f787ab-4c32-4f64-8140-227cb3729639\">\n",
              "  <button class=\"colab-df-quickchart\" onclick=\"quickchart('df-f9f787ab-4c32-4f64-8140-227cb3729639')\"\n",
              "            title=\"Suggest charts\"\n",
              "            style=\"display:none;\">\n",
              "\n",
              "<svg xmlns=\"http://www.w3.org/2000/svg\" height=\"24px\"viewBox=\"0 0 24 24\"\n",
              "     width=\"24px\">\n",
              "    <g>\n",
              "        <path d=\"M19 3H5c-1.1 0-2 .9-2 2v14c0 1.1.9 2 2 2h14c1.1 0 2-.9 2-2V5c0-1.1-.9-2-2-2zM9 17H7v-7h2v7zm4 0h-2V7h2v10zm4 0h-2v-4h2v4z\"/>\n",
              "    </g>\n",
              "</svg>\n",
              "  </button>\n",
              "\n",
              "<style>\n",
              "  .colab-df-quickchart {\n",
              "      --bg-color: #E8F0FE;\n",
              "      --fill-color: #1967D2;\n",
              "      --hover-bg-color: #E2EBFA;\n",
              "      --hover-fill-color: #174EA6;\n",
              "      --disabled-fill-color: #AAA;\n",
              "      --disabled-bg-color: #DDD;\n",
              "  }\n",
              "\n",
              "  [theme=dark] .colab-df-quickchart {\n",
              "      --bg-color: #3B4455;\n",
              "      --fill-color: #D2E3FC;\n",
              "      --hover-bg-color: #434B5C;\n",
              "      --hover-fill-color: #FFFFFF;\n",
              "      --disabled-bg-color: #3B4455;\n",
              "      --disabled-fill-color: #666;\n",
              "  }\n",
              "\n",
              "  .colab-df-quickchart {\n",
              "    background-color: var(--bg-color);\n",
              "    border: none;\n",
              "    border-radius: 50%;\n",
              "    cursor: pointer;\n",
              "    display: none;\n",
              "    fill: var(--fill-color);\n",
              "    height: 32px;\n",
              "    padding: 0;\n",
              "    width: 32px;\n",
              "  }\n",
              "\n",
              "  .colab-df-quickchart:hover {\n",
              "    background-color: var(--hover-bg-color);\n",
              "    box-shadow: 0 1px 2px rgba(60, 64, 67, 0.3), 0 1px 3px 1px rgba(60, 64, 67, 0.15);\n",
              "    fill: var(--button-hover-fill-color);\n",
              "  }\n",
              "\n",
              "  .colab-df-quickchart-complete:disabled,\n",
              "  .colab-df-quickchart-complete:disabled:hover {\n",
              "    background-color: var(--disabled-bg-color);\n",
              "    fill: var(--disabled-fill-color);\n",
              "    box-shadow: none;\n",
              "  }\n",
              "\n",
              "  .colab-df-spinner {\n",
              "    border: 2px solid var(--fill-color);\n",
              "    border-color: transparent;\n",
              "    border-bottom-color: var(--fill-color);\n",
              "    animation:\n",
              "      spin 1s steps(1) infinite;\n",
              "  }\n",
              "\n",
              "  @keyframes spin {\n",
              "    0% {\n",
              "      border-color: transparent;\n",
              "      border-bottom-color: var(--fill-color);\n",
              "      border-left-color: var(--fill-color);\n",
              "    }\n",
              "    20% {\n",
              "      border-color: transparent;\n",
              "      border-left-color: var(--fill-color);\n",
              "      border-top-color: var(--fill-color);\n",
              "    }\n",
              "    30% {\n",
              "      border-color: transparent;\n",
              "      border-left-color: var(--fill-color);\n",
              "      border-top-color: var(--fill-color);\n",
              "      border-right-color: var(--fill-color);\n",
              "    }\n",
              "    40% {\n",
              "      border-color: transparent;\n",
              "      border-right-color: var(--fill-color);\n",
              "      border-top-color: var(--fill-color);\n",
              "    }\n",
              "    60% {\n",
              "      border-color: transparent;\n",
              "      border-right-color: var(--fill-color);\n",
              "    }\n",
              "    80% {\n",
              "      border-color: transparent;\n",
              "      border-right-color: var(--fill-color);\n",
              "      border-bottom-color: var(--fill-color);\n",
              "    }\n",
              "    90% {\n",
              "      border-color: transparent;\n",
              "      border-bottom-color: var(--fill-color);\n",
              "    }\n",
              "  }\n",
              "</style>\n",
              "\n",
              "  <script>\n",
              "    async function quickchart(key) {\n",
              "      const quickchartButtonEl =\n",
              "        document.querySelector('#' + key + ' button');\n",
              "      quickchartButtonEl.disabled = true;  // To prevent multiple clicks.\n",
              "      quickchartButtonEl.classList.add('colab-df-spinner');\n",
              "      try {\n",
              "        const charts = await google.colab.kernel.invokeFunction(\n",
              "            'suggestCharts', [key], {});\n",
              "      } catch (error) {\n",
              "        console.error('Error during call to suggestCharts:', error);\n",
              "      }\n",
              "      quickchartButtonEl.classList.remove('colab-df-spinner');\n",
              "      quickchartButtonEl.classList.add('colab-df-quickchart-complete');\n",
              "    }\n",
              "    (() => {\n",
              "      let quickchartButtonEl =\n",
              "        document.querySelector('#df-f9f787ab-4c32-4f64-8140-227cb3729639 button');\n",
              "      quickchartButtonEl.style.display =\n",
              "        google.colab.kernel.accessAllowed ? 'block' : 'none';\n",
              "    })();\n",
              "  </script>\n",
              "</div>\n",
              "\n",
              "  <div id=\"id_95d6cf1d-d039-4905-af92-bfa3125d8f7d\">\n",
              "    <style>\n",
              "      .colab-df-generate {\n",
              "        background-color: #E8F0FE;\n",
              "        border: none;\n",
              "        border-radius: 50%;\n",
              "        cursor: pointer;\n",
              "        display: none;\n",
              "        fill: #1967D2;\n",
              "        height: 32px;\n",
              "        padding: 0 0 0 0;\n",
              "        width: 32px;\n",
              "      }\n",
              "\n",
              "      .colab-df-generate:hover {\n",
              "        background-color: #E2EBFA;\n",
              "        box-shadow: 0px 1px 2px rgba(60, 64, 67, 0.3), 0px 1px 3px 1px rgba(60, 64, 67, 0.15);\n",
              "        fill: #174EA6;\n",
              "      }\n",
              "\n",
              "      [theme=dark] .colab-df-generate {\n",
              "        background-color: #3B4455;\n",
              "        fill: #D2E3FC;\n",
              "      }\n",
              "\n",
              "      [theme=dark] .colab-df-generate:hover {\n",
              "        background-color: #434B5C;\n",
              "        box-shadow: 0px 1px 3px 1px rgba(0, 0, 0, 0.15);\n",
              "        filter: drop-shadow(0px 1px 2px rgba(0, 0, 0, 0.3));\n",
              "        fill: #FFFFFF;\n",
              "      }\n",
              "    </style>\n",
              "    <button class=\"colab-df-generate\" onclick=\"generateWithVariable('corr')\"\n",
              "            title=\"Generate code using this dataframe.\"\n",
              "            style=\"display:none;\">\n",
              "\n",
              "  <svg xmlns=\"http://www.w3.org/2000/svg\" height=\"24px\"viewBox=\"0 0 24 24\"\n",
              "       width=\"24px\">\n",
              "    <path d=\"M7,19H8.4L18.45,9,17,7.55,7,17.6ZM5,21V16.75L18.45,3.32a2,2,0,0,1,2.83,0l1.4,1.43a1.91,1.91,0,0,1,.58,1.4,1.91,1.91,0,0,1-.58,1.4L9.25,21ZM18.45,9,17,7.55Zm-12,3A5.31,5.31,0,0,0,4.9,8.1,5.31,5.31,0,0,0,1,6.5,5.31,5.31,0,0,0,4.9,4.9,5.31,5.31,0,0,0,6.5,1,5.31,5.31,0,0,0,8.1,4.9,5.31,5.31,0,0,0,12,6.5,5.46,5.46,0,0,0,6.5,12Z\"/>\n",
              "  </svg>\n",
              "    </button>\n",
              "    <script>\n",
              "      (() => {\n",
              "      const buttonEl =\n",
              "        document.querySelector('#id_95d6cf1d-d039-4905-af92-bfa3125d8f7d button.colab-df-generate');\n",
              "      buttonEl.style.display =\n",
              "        google.colab.kernel.accessAllowed ? 'block' : 'none';\n",
              "\n",
              "      buttonEl.onclick = () => {\n",
              "        google.colab.notebook.generateWithVariable('corr');\n",
              "      }\n",
              "      })();\n",
              "    </script>\n",
              "  </div>\n",
              "\n",
              "    </div>\n",
              "  </div>\n"
            ],
            "text/plain": [
              "                           UDI  Machine_ID      Type  Air_temperature_K  \\\n",
              "UDI                   1.000000    0.463158  0.005529           0.117428   \n",
              "Machine_ID            0.463158    1.000000  0.866083           0.067602   \n",
              "Type                  0.005529    0.866083  1.000000           0.017599   \n",
              "Air_temperature_K     0.117428    0.067602  0.017599           1.000000   \n",
              "Temperature           0.324428    0.160825  0.013444           0.876107   \n",
              "Rotational_speed_rpm -0.006615   -0.006476 -0.002693           0.022670   \n",
              "Torque_Nm             0.003207    0.005000  0.004011          -0.013778   \n",
              "Tool_wear_min        -0.010702   -0.011603 -0.003930           0.013853   \n",
              "Downtime_Flag        -0.022892   -0.016975 -0.005152           0.082556   \n",
              "Failure_Type         -0.002152   -0.006580 -0.008249          -0.025327   \n",
              "Run_Time             -0.200978   -0.091666  0.000085          -0.047729   \n",
              "\n",
              "                      Temperature  Rotational_speed_rpm  Torque_Nm  \\\n",
              "UDI                      0.324428             -0.006615   0.003207   \n",
              "Machine_ID               0.160825             -0.006476   0.005000   \n",
              "Type                     0.013444             -0.002693   0.004011   \n",
              "Air_temperature_K        0.876107              0.022670  -0.013778   \n",
              "Temperature              1.000000              0.019277  -0.014061   \n",
              "Rotational_speed_rpm     0.019277              1.000000  -0.875027   \n",
              "Torque_Nm               -0.014061             -0.875027   1.000000   \n",
              "Tool_wear_min            0.013488              0.000223  -0.003093   \n",
              "Downtime_Flag            0.035946             -0.044188   0.191321   \n",
              "Failure_Type            -0.004600              0.079407   0.031737   \n",
              "Run_Time                -0.252741             -0.488264   0.064413   \n",
              "\n",
              "                      Tool_wear_min  Downtime_Flag  Failure_Type  Run_Time  \n",
              "UDI                       -0.010702      -0.022892     -0.002152 -0.200978  \n",
              "Machine_ID                -0.011603      -0.016975     -0.006580 -0.091666  \n",
              "Type                      -0.003930      -0.005152     -0.008249  0.000085  \n",
              "Air_temperature_K          0.013853       0.082556     -0.025327 -0.047729  \n",
              "Temperature                0.013488       0.035946     -0.004600 -0.252741  \n",
              "Rotational_speed_rpm       0.000223      -0.044188      0.079407 -0.488264  \n",
              "Torque_Nm                 -0.003093       0.191321      0.031737  0.064413  \n",
              "Tool_wear_min              1.000000       0.105448      0.111619  0.002777  \n",
              "Downtime_Flag              0.105448       1.000000      0.470541 -0.184778  \n",
              "Failure_Type               0.111619       0.470541      1.000000 -0.212012  \n",
              "Run_Time                   0.002777      -0.184778     -0.212012  1.000000  "
            ]
          },
          "execution_count": 32,
          "metadata": {},
          "output_type": "execute_result"
        }
      ],
      "source": [
        "corr = data.corr()\n",
        "corr"
      ]
    },
    {
      "cell_type": "markdown",
      "metadata": {
        "id": "RwnLUZBdsylL"
      },
      "source": [
        "#Split the dataset to separate class label and features"
      ]
    },
    {
      "cell_type": "code",
      "execution_count": 48,
      "metadata": {
        "id": "4OBocr-2s7tf"
      },
      "outputs": [],
      "source": [
        "# Separate features (X) and target (y)\n",
        "X = data.drop(columns=['Downtime_Flag'])\n",
        "y = data['Downtime_Flag']"
      ]
    },
    {
      "cell_type": "code",
      "source": [
        "from imblearn.over_sampling import SMOTE\n",
        "\n",
        "\n",
        "# Apply SMOTE to balance the dataset (before splitting)\n",
        "smote = SMOTE(sampling_strategy='auto', random_state=42)\n",
        "X_resampled, y_resampled = smote.fit_resample(X, y)\n",
        "\n"
      ],
      "metadata": {
        "id": "OQciRFWS4CH2"
      },
      "execution_count": 49,
      "outputs": []
    },
    {
      "cell_type": "markdown",
      "metadata": {
        "id": "G2Jgcjbos8gn"
      },
      "source": [
        "# Display the first few rows of X and y"
      ]
    },
    {
      "cell_type": "code",
      "execution_count": 50,
      "metadata": {
        "colab": {
          "base_uri": "https://localhost:8080/",
          "height": 0
        },
        "id": "1Hh2oh1BaFPl",
        "outputId": "9d3e0a3c-6f27-47cc-b525-0a03a73ec118"
      },
      "outputs": [
        {
          "output_type": "stream",
          "name": "stdout",
          "text": [
            "Features (X):\n",
            " (10000, 10)\n",
            "\n",
            "Target (y):\n",
            " (10000,)\n"
          ]
        }
      ],
      "source": [
        "print(\"Features (X):\\n\", X.shape)\n",
        "print(\"\\nTarget (y):\\n\", y.shape)"
      ]
    },
    {
      "cell_type": "code",
      "execution_count": 51,
      "metadata": {
        "colab": {
          "base_uri": "https://localhost:8080/",
          "height": 424
        },
        "id": "rnCx_mA2aeui",
        "outputId": "e9baeb0d-fc42-4ec1-b837-6992a98d776a"
      },
      "outputs": [
        {
          "output_type": "execute_result",
          "data": {
            "text/plain": [
              "        UDI  Machine_ID  Type  Air_temperature_K  Temperature  \\\n",
              "0         1        7003     2              298.1        308.6   \n",
              "1         2        1003     1              298.2        308.7   \n",
              "2         3        1004     1              298.1        308.5   \n",
              "3         4        1005     1              298.2        308.6   \n",
              "4         5        1006     1              298.2        308.7   \n",
              "...     ...         ...   ...                ...          ...   \n",
              "9995   9996        9997     2              298.8        308.4   \n",
              "9996   9997        1001     0              298.9        308.4   \n",
              "9997   9998        9998     2              299.0        308.6   \n",
              "9998   9999        1002     0              299.0        308.7   \n",
              "9999  10000        9999     2              299.0        308.7   \n",
              "\n",
              "      Rotational_speed_rpm  Torque_Nm  Tool_wear_min  Failure_Type    Run_Time  \n",
              "0                     1551       42.8              0             1  107.707956  \n",
              "1                     1408       46.3              3             1  108.462129  \n",
              "2                     1498       49.4              5             1  107.357169  \n",
              "3                     1433       39.5              7             1  109.183247  \n",
              "4                     1408       40.0              9             1  109.281120  \n",
              "...                    ...        ...            ...           ...         ...  \n",
              "9995                  1604       29.5             14             1  109.313575  \n",
              "9996                  1632       31.8             17             1  108.806633  \n",
              "9997                  1645       33.4             22             1  108.415757  \n",
              "9998                  1408       48.5             25             1  108.436880  \n",
              "9999                  1500       40.2             30             1  108.725523  \n",
              "\n",
              "[10000 rows x 10 columns]"
            ],
            "text/html": [
              "\n",
              "  <div id=\"df-4cbd85fd-9e2c-4ca4-ba22-44d791a0dc74\" class=\"colab-df-container\">\n",
              "    <div>\n",
              "<style scoped>\n",
              "    .dataframe tbody tr th:only-of-type {\n",
              "        vertical-align: middle;\n",
              "    }\n",
              "\n",
              "    .dataframe tbody tr th {\n",
              "        vertical-align: top;\n",
              "    }\n",
              "\n",
              "    .dataframe thead th {\n",
              "        text-align: right;\n",
              "    }\n",
              "</style>\n",
              "<table border=\"1\" class=\"dataframe\">\n",
              "  <thead>\n",
              "    <tr style=\"text-align: right;\">\n",
              "      <th></th>\n",
              "      <th>UDI</th>\n",
              "      <th>Machine_ID</th>\n",
              "      <th>Type</th>\n",
              "      <th>Air_temperature_K</th>\n",
              "      <th>Temperature</th>\n",
              "      <th>Rotational_speed_rpm</th>\n",
              "      <th>Torque_Nm</th>\n",
              "      <th>Tool_wear_min</th>\n",
              "      <th>Failure_Type</th>\n",
              "      <th>Run_Time</th>\n",
              "    </tr>\n",
              "  </thead>\n",
              "  <tbody>\n",
              "    <tr>\n",
              "      <th>0</th>\n",
              "      <td>1</td>\n",
              "      <td>7003</td>\n",
              "      <td>2</td>\n",
              "      <td>298.1</td>\n",
              "      <td>308.6</td>\n",
              "      <td>1551</td>\n",
              "      <td>42.8</td>\n",
              "      <td>0</td>\n",
              "      <td>1</td>\n",
              "      <td>107.707956</td>\n",
              "    </tr>\n",
              "    <tr>\n",
              "      <th>1</th>\n",
              "      <td>2</td>\n",
              "      <td>1003</td>\n",
              "      <td>1</td>\n",
              "      <td>298.2</td>\n",
              "      <td>308.7</td>\n",
              "      <td>1408</td>\n",
              "      <td>46.3</td>\n",
              "      <td>3</td>\n",
              "      <td>1</td>\n",
              "      <td>108.462129</td>\n",
              "    </tr>\n",
              "    <tr>\n",
              "      <th>2</th>\n",
              "      <td>3</td>\n",
              "      <td>1004</td>\n",
              "      <td>1</td>\n",
              "      <td>298.1</td>\n",
              "      <td>308.5</td>\n",
              "      <td>1498</td>\n",
              "      <td>49.4</td>\n",
              "      <td>5</td>\n",
              "      <td>1</td>\n",
              "      <td>107.357169</td>\n",
              "    </tr>\n",
              "    <tr>\n",
              "      <th>3</th>\n",
              "      <td>4</td>\n",
              "      <td>1005</td>\n",
              "      <td>1</td>\n",
              "      <td>298.2</td>\n",
              "      <td>308.6</td>\n",
              "      <td>1433</td>\n",
              "      <td>39.5</td>\n",
              "      <td>7</td>\n",
              "      <td>1</td>\n",
              "      <td>109.183247</td>\n",
              "    </tr>\n",
              "    <tr>\n",
              "      <th>4</th>\n",
              "      <td>5</td>\n",
              "      <td>1006</td>\n",
              "      <td>1</td>\n",
              "      <td>298.2</td>\n",
              "      <td>308.7</td>\n",
              "      <td>1408</td>\n",
              "      <td>40.0</td>\n",
              "      <td>9</td>\n",
              "      <td>1</td>\n",
              "      <td>109.281120</td>\n",
              "    </tr>\n",
              "    <tr>\n",
              "      <th>...</th>\n",
              "      <td>...</td>\n",
              "      <td>...</td>\n",
              "      <td>...</td>\n",
              "      <td>...</td>\n",
              "      <td>...</td>\n",
              "      <td>...</td>\n",
              "      <td>...</td>\n",
              "      <td>...</td>\n",
              "      <td>...</td>\n",
              "      <td>...</td>\n",
              "    </tr>\n",
              "    <tr>\n",
              "      <th>9995</th>\n",
              "      <td>9996</td>\n",
              "      <td>9997</td>\n",
              "      <td>2</td>\n",
              "      <td>298.8</td>\n",
              "      <td>308.4</td>\n",
              "      <td>1604</td>\n",
              "      <td>29.5</td>\n",
              "      <td>14</td>\n",
              "      <td>1</td>\n",
              "      <td>109.313575</td>\n",
              "    </tr>\n",
              "    <tr>\n",
              "      <th>9996</th>\n",
              "      <td>9997</td>\n",
              "      <td>1001</td>\n",
              "      <td>0</td>\n",
              "      <td>298.9</td>\n",
              "      <td>308.4</td>\n",
              "      <td>1632</td>\n",
              "      <td>31.8</td>\n",
              "      <td>17</td>\n",
              "      <td>1</td>\n",
              "      <td>108.806633</td>\n",
              "    </tr>\n",
              "    <tr>\n",
              "      <th>9997</th>\n",
              "      <td>9998</td>\n",
              "      <td>9998</td>\n",
              "      <td>2</td>\n",
              "      <td>299.0</td>\n",
              "      <td>308.6</td>\n",
              "      <td>1645</td>\n",
              "      <td>33.4</td>\n",
              "      <td>22</td>\n",
              "      <td>1</td>\n",
              "      <td>108.415757</td>\n",
              "    </tr>\n",
              "    <tr>\n",
              "      <th>9998</th>\n",
              "      <td>9999</td>\n",
              "      <td>1002</td>\n",
              "      <td>0</td>\n",
              "      <td>299.0</td>\n",
              "      <td>308.7</td>\n",
              "      <td>1408</td>\n",
              "      <td>48.5</td>\n",
              "      <td>25</td>\n",
              "      <td>1</td>\n",
              "      <td>108.436880</td>\n",
              "    </tr>\n",
              "    <tr>\n",
              "      <th>9999</th>\n",
              "      <td>10000</td>\n",
              "      <td>9999</td>\n",
              "      <td>2</td>\n",
              "      <td>299.0</td>\n",
              "      <td>308.7</td>\n",
              "      <td>1500</td>\n",
              "      <td>40.2</td>\n",
              "      <td>30</td>\n",
              "      <td>1</td>\n",
              "      <td>108.725523</td>\n",
              "    </tr>\n",
              "  </tbody>\n",
              "</table>\n",
              "<p>10000 rows × 10 columns</p>\n",
              "</div>\n",
              "    <div class=\"colab-df-buttons\">\n",
              "\n",
              "  <div class=\"colab-df-container\">\n",
              "    <button class=\"colab-df-convert\" onclick=\"convertToInteractive('df-4cbd85fd-9e2c-4ca4-ba22-44d791a0dc74')\"\n",
              "            title=\"Convert this dataframe to an interactive table.\"\n",
              "            style=\"display:none;\">\n",
              "\n",
              "  <svg xmlns=\"http://www.w3.org/2000/svg\" height=\"24px\" viewBox=\"0 -960 960 960\">\n",
              "    <path d=\"M120-120v-720h720v720H120Zm60-500h600v-160H180v160Zm220 220h160v-160H400v160Zm0 220h160v-160H400v160ZM180-400h160v-160H180v160Zm440 0h160v-160H620v160ZM180-180h160v-160H180v160Zm440 0h160v-160H620v160Z\"/>\n",
              "  </svg>\n",
              "    </button>\n",
              "\n",
              "  <style>\n",
              "    .colab-df-container {\n",
              "      display:flex;\n",
              "      gap: 12px;\n",
              "    }\n",
              "\n",
              "    .colab-df-convert {\n",
              "      background-color: #E8F0FE;\n",
              "      border: none;\n",
              "      border-radius: 50%;\n",
              "      cursor: pointer;\n",
              "      display: none;\n",
              "      fill: #1967D2;\n",
              "      height: 32px;\n",
              "      padding: 0 0 0 0;\n",
              "      width: 32px;\n",
              "    }\n",
              "\n",
              "    .colab-df-convert:hover {\n",
              "      background-color: #E2EBFA;\n",
              "      box-shadow: 0px 1px 2px rgba(60, 64, 67, 0.3), 0px 1px 3px 1px rgba(60, 64, 67, 0.15);\n",
              "      fill: #174EA6;\n",
              "    }\n",
              "\n",
              "    .colab-df-buttons div {\n",
              "      margin-bottom: 4px;\n",
              "    }\n",
              "\n",
              "    [theme=dark] .colab-df-convert {\n",
              "      background-color: #3B4455;\n",
              "      fill: #D2E3FC;\n",
              "    }\n",
              "\n",
              "    [theme=dark] .colab-df-convert:hover {\n",
              "      background-color: #434B5C;\n",
              "      box-shadow: 0px 1px 3px 1px rgba(0, 0, 0, 0.15);\n",
              "      filter: drop-shadow(0px 1px 2px rgba(0, 0, 0, 0.3));\n",
              "      fill: #FFFFFF;\n",
              "    }\n",
              "  </style>\n",
              "\n",
              "    <script>\n",
              "      const buttonEl =\n",
              "        document.querySelector('#df-4cbd85fd-9e2c-4ca4-ba22-44d791a0dc74 button.colab-df-convert');\n",
              "      buttonEl.style.display =\n",
              "        google.colab.kernel.accessAllowed ? 'block' : 'none';\n",
              "\n",
              "      async function convertToInteractive(key) {\n",
              "        const element = document.querySelector('#df-4cbd85fd-9e2c-4ca4-ba22-44d791a0dc74');\n",
              "        const dataTable =\n",
              "          await google.colab.kernel.invokeFunction('convertToInteractive',\n",
              "                                                    [key], {});\n",
              "        if (!dataTable) return;\n",
              "\n",
              "        const docLinkHtml = 'Like what you see? Visit the ' +\n",
              "          '<a target=\"_blank\" href=https://colab.research.google.com/notebooks/data_table.ipynb>data table notebook</a>'\n",
              "          + ' to learn more about interactive tables.';\n",
              "        element.innerHTML = '';\n",
              "        dataTable['output_type'] = 'display_data';\n",
              "        await google.colab.output.renderOutput(dataTable, element);\n",
              "        const docLink = document.createElement('div');\n",
              "        docLink.innerHTML = docLinkHtml;\n",
              "        element.appendChild(docLink);\n",
              "      }\n",
              "    </script>\n",
              "  </div>\n",
              "\n",
              "\n",
              "<div id=\"df-21822f08-31af-4074-8523-dbc600d17c7f\">\n",
              "  <button class=\"colab-df-quickchart\" onclick=\"quickchart('df-21822f08-31af-4074-8523-dbc600d17c7f')\"\n",
              "            title=\"Suggest charts\"\n",
              "            style=\"display:none;\">\n",
              "\n",
              "<svg xmlns=\"http://www.w3.org/2000/svg\" height=\"24px\"viewBox=\"0 0 24 24\"\n",
              "     width=\"24px\">\n",
              "    <g>\n",
              "        <path d=\"M19 3H5c-1.1 0-2 .9-2 2v14c0 1.1.9 2 2 2h14c1.1 0 2-.9 2-2V5c0-1.1-.9-2-2-2zM9 17H7v-7h2v7zm4 0h-2V7h2v10zm4 0h-2v-4h2v4z\"/>\n",
              "    </g>\n",
              "</svg>\n",
              "  </button>\n",
              "\n",
              "<style>\n",
              "  .colab-df-quickchart {\n",
              "      --bg-color: #E8F0FE;\n",
              "      --fill-color: #1967D2;\n",
              "      --hover-bg-color: #E2EBFA;\n",
              "      --hover-fill-color: #174EA6;\n",
              "      --disabled-fill-color: #AAA;\n",
              "      --disabled-bg-color: #DDD;\n",
              "  }\n",
              "\n",
              "  [theme=dark] .colab-df-quickchart {\n",
              "      --bg-color: #3B4455;\n",
              "      --fill-color: #D2E3FC;\n",
              "      --hover-bg-color: #434B5C;\n",
              "      --hover-fill-color: #FFFFFF;\n",
              "      --disabled-bg-color: #3B4455;\n",
              "      --disabled-fill-color: #666;\n",
              "  }\n",
              "\n",
              "  .colab-df-quickchart {\n",
              "    background-color: var(--bg-color);\n",
              "    border: none;\n",
              "    border-radius: 50%;\n",
              "    cursor: pointer;\n",
              "    display: none;\n",
              "    fill: var(--fill-color);\n",
              "    height: 32px;\n",
              "    padding: 0;\n",
              "    width: 32px;\n",
              "  }\n",
              "\n",
              "  .colab-df-quickchart:hover {\n",
              "    background-color: var(--hover-bg-color);\n",
              "    box-shadow: 0 1px 2px rgba(60, 64, 67, 0.3), 0 1px 3px 1px rgba(60, 64, 67, 0.15);\n",
              "    fill: var(--button-hover-fill-color);\n",
              "  }\n",
              "\n",
              "  .colab-df-quickchart-complete:disabled,\n",
              "  .colab-df-quickchart-complete:disabled:hover {\n",
              "    background-color: var(--disabled-bg-color);\n",
              "    fill: var(--disabled-fill-color);\n",
              "    box-shadow: none;\n",
              "  }\n",
              "\n",
              "  .colab-df-spinner {\n",
              "    border: 2px solid var(--fill-color);\n",
              "    border-color: transparent;\n",
              "    border-bottom-color: var(--fill-color);\n",
              "    animation:\n",
              "      spin 1s steps(1) infinite;\n",
              "  }\n",
              "\n",
              "  @keyframes spin {\n",
              "    0% {\n",
              "      border-color: transparent;\n",
              "      border-bottom-color: var(--fill-color);\n",
              "      border-left-color: var(--fill-color);\n",
              "    }\n",
              "    20% {\n",
              "      border-color: transparent;\n",
              "      border-left-color: var(--fill-color);\n",
              "      border-top-color: var(--fill-color);\n",
              "    }\n",
              "    30% {\n",
              "      border-color: transparent;\n",
              "      border-left-color: var(--fill-color);\n",
              "      border-top-color: var(--fill-color);\n",
              "      border-right-color: var(--fill-color);\n",
              "    }\n",
              "    40% {\n",
              "      border-color: transparent;\n",
              "      border-right-color: var(--fill-color);\n",
              "      border-top-color: var(--fill-color);\n",
              "    }\n",
              "    60% {\n",
              "      border-color: transparent;\n",
              "      border-right-color: var(--fill-color);\n",
              "    }\n",
              "    80% {\n",
              "      border-color: transparent;\n",
              "      border-right-color: var(--fill-color);\n",
              "      border-bottom-color: var(--fill-color);\n",
              "    }\n",
              "    90% {\n",
              "      border-color: transparent;\n",
              "      border-bottom-color: var(--fill-color);\n",
              "    }\n",
              "  }\n",
              "</style>\n",
              "\n",
              "  <script>\n",
              "    async function quickchart(key) {\n",
              "      const quickchartButtonEl =\n",
              "        document.querySelector('#' + key + ' button');\n",
              "      quickchartButtonEl.disabled = true;  // To prevent multiple clicks.\n",
              "      quickchartButtonEl.classList.add('colab-df-spinner');\n",
              "      try {\n",
              "        const charts = await google.colab.kernel.invokeFunction(\n",
              "            'suggestCharts', [key], {});\n",
              "      } catch (error) {\n",
              "        console.error('Error during call to suggestCharts:', error);\n",
              "      }\n",
              "      quickchartButtonEl.classList.remove('colab-df-spinner');\n",
              "      quickchartButtonEl.classList.add('colab-df-quickchart-complete');\n",
              "    }\n",
              "    (() => {\n",
              "      let quickchartButtonEl =\n",
              "        document.querySelector('#df-21822f08-31af-4074-8523-dbc600d17c7f button');\n",
              "      quickchartButtonEl.style.display =\n",
              "        google.colab.kernel.accessAllowed ? 'block' : 'none';\n",
              "    })();\n",
              "  </script>\n",
              "</div>\n",
              "\n",
              "  <div id=\"id_d4cdb269-23bc-46ec-9973-4621f04bb61e\">\n",
              "    <style>\n",
              "      .colab-df-generate {\n",
              "        background-color: #E8F0FE;\n",
              "        border: none;\n",
              "        border-radius: 50%;\n",
              "        cursor: pointer;\n",
              "        display: none;\n",
              "        fill: #1967D2;\n",
              "        height: 32px;\n",
              "        padding: 0 0 0 0;\n",
              "        width: 32px;\n",
              "      }\n",
              "\n",
              "      .colab-df-generate:hover {\n",
              "        background-color: #E2EBFA;\n",
              "        box-shadow: 0px 1px 2px rgba(60, 64, 67, 0.3), 0px 1px 3px 1px rgba(60, 64, 67, 0.15);\n",
              "        fill: #174EA6;\n",
              "      }\n",
              "\n",
              "      [theme=dark] .colab-df-generate {\n",
              "        background-color: #3B4455;\n",
              "        fill: #D2E3FC;\n",
              "      }\n",
              "\n",
              "      [theme=dark] .colab-df-generate:hover {\n",
              "        background-color: #434B5C;\n",
              "        box-shadow: 0px 1px 3px 1px rgba(0, 0, 0, 0.15);\n",
              "        filter: drop-shadow(0px 1px 2px rgba(0, 0, 0, 0.3));\n",
              "        fill: #FFFFFF;\n",
              "      }\n",
              "    </style>\n",
              "    <button class=\"colab-df-generate\" onclick=\"generateWithVariable('X')\"\n",
              "            title=\"Generate code using this dataframe.\"\n",
              "            style=\"display:none;\">\n",
              "\n",
              "  <svg xmlns=\"http://www.w3.org/2000/svg\" height=\"24px\"viewBox=\"0 0 24 24\"\n",
              "       width=\"24px\">\n",
              "    <path d=\"M7,19H8.4L18.45,9,17,7.55,7,17.6ZM5,21V16.75L18.45,3.32a2,2,0,0,1,2.83,0l1.4,1.43a1.91,1.91,0,0,1,.58,1.4,1.91,1.91,0,0,1-.58,1.4L9.25,21ZM18.45,9,17,7.55Zm-12,3A5.31,5.31,0,0,0,4.9,8.1,5.31,5.31,0,0,0,1,6.5,5.31,5.31,0,0,0,4.9,4.9,5.31,5.31,0,0,0,6.5,1,5.31,5.31,0,0,0,8.1,4.9,5.31,5.31,0,0,0,12,6.5,5.46,5.46,0,0,0,6.5,12Z\"/>\n",
              "  </svg>\n",
              "    </button>\n",
              "    <script>\n",
              "      (() => {\n",
              "      const buttonEl =\n",
              "        document.querySelector('#id_d4cdb269-23bc-46ec-9973-4621f04bb61e button.colab-df-generate');\n",
              "      buttonEl.style.display =\n",
              "        google.colab.kernel.accessAllowed ? 'block' : 'none';\n",
              "\n",
              "      buttonEl.onclick = () => {\n",
              "        google.colab.notebook.generateWithVariable('X');\n",
              "      }\n",
              "      })();\n",
              "    </script>\n",
              "  </div>\n",
              "\n",
              "    </div>\n",
              "  </div>\n"
            ],
            "application/vnd.google.colaboratory.intrinsic+json": {
              "type": "dataframe",
              "variable_name": "X",
              "summary": "{\n  \"name\": \"X\",\n  \"rows\": 10000,\n  \"fields\": [\n    {\n      \"column\": \"UDI\",\n      \"properties\": {\n        \"dtype\": \"number\",\n        \"std\": 2886,\n        \"min\": 1,\n        \"max\": 10000,\n        \"num_unique_values\": 10000,\n        \"samples\": [\n          6253,\n          4685,\n          1732\n        ],\n        \"semantic_type\": \"\",\n        \"description\": \"\"\n      }\n    },\n    {\n      \"column\": \"Machine_ID\",\n      \"properties\": {\n        \"dtype\": \"number\",\n        \"std\": 2886,\n        \"min\": 0,\n        \"max\": 9999,\n        \"num_unique_values\": 10000,\n        \"samples\": [\n          4766,\n          8391,\n          7507\n        ],\n        \"semantic_type\": \"\",\n        \"description\": \"\"\n      }\n    },\n    {\n      \"column\": \"Type\",\n      \"properties\": {\n        \"dtype\": \"number\",\n        \"std\": 0,\n        \"min\": 0,\n        \"max\": 2,\n        \"num_unique_values\": 3,\n        \"samples\": [\n          2,\n          1,\n          0\n        ],\n        \"semantic_type\": \"\",\n        \"description\": \"\"\n      }\n    },\n    {\n      \"column\": \"Air_temperature_K\",\n      \"properties\": {\n        \"dtype\": \"number\",\n        \"std\": 2.0002586829157574,\n        \"min\": 295.3,\n        \"max\": 304.5,\n        \"num_unique_values\": 93,\n        \"samples\": [\n          299.3,\n          296.9,\n          300.8\n        ],\n        \"semantic_type\": \"\",\n        \"description\": \"\"\n      }\n    },\n    {\n      \"column\": \"Temperature\",\n      \"properties\": {\n        \"dtype\": \"number\",\n        \"std\": 1.4837342191657419,\n        \"min\": 305.7,\n        \"max\": 313.8,\n        \"num_unique_values\": 82,\n        \"samples\": [\n          307.2,\n          308.6,\n          310.1\n        ],\n        \"semantic_type\": \"\",\n        \"description\": \"\"\n      }\n    },\n    {\n      \"column\": \"Rotational_speed_rpm\",\n      \"properties\": {\n        \"dtype\": \"number\",\n        \"std\": 179,\n        \"min\": 1168,\n        \"max\": 2886,\n        \"num_unique_values\": 941,\n        \"samples\": [\n          1274,\n          1576,\n          2010\n        ],\n        \"semantic_type\": \"\",\n        \"description\": \"\"\n      }\n    },\n    {\n      \"column\": \"Torque_Nm\",\n      \"properties\": {\n        \"dtype\": \"number\",\n        \"std\": 9.968933725121401,\n        \"min\": 3.8,\n        \"max\": 76.6,\n        \"num_unique_values\": 577,\n        \"samples\": [\n          36.1,\n          65.9,\n          12.6\n        ],\n        \"semantic_type\": \"\",\n        \"description\": \"\"\n      }\n    },\n    {\n      \"column\": \"Tool_wear_min\",\n      \"properties\": {\n        \"dtype\": \"number\",\n        \"std\": 63,\n        \"min\": 0,\n        \"max\": 253,\n        \"num_unique_values\": 246,\n        \"samples\": [\n          93,\n          14,\n          215\n        ],\n        \"semantic_type\": \"\",\n        \"description\": \"\"\n      }\n    },\n    {\n      \"column\": \"Failure_Type\",\n      \"properties\": {\n        \"dtype\": \"number\",\n        \"std\": 0,\n        \"min\": 0,\n        \"max\": 5,\n        \"num_unique_values\": 6,\n        \"samples\": [\n          1,\n          3,\n          0\n        ],\n        \"semantic_type\": \"\",\n        \"description\": \"\"\n      }\n    },\n    {\n      \"column\": \"Run_Time\",\n      \"properties\": {\n        \"dtype\": \"number\",\n        \"std\": 0.8320310440245128,\n        \"min\": 101.08034889541915,\n        \"max\": 110.43015880352834,\n        \"num_unique_values\": 9998,\n        \"samples\": [\n          108.66693727342795,\n          108.87630759825547,\n          108.8074010340513\n        ],\n        \"semantic_type\": \"\",\n        \"description\": \"\"\n      }\n    }\n  ]\n}"
            }
          },
          "metadata": {},
          "execution_count": 51
        }
      ],
      "source": [
        "X"
      ]
    },
    {
      "cell_type": "code",
      "execution_count": 52,
      "metadata": {
        "colab": {
          "base_uri": "https://localhost:8080/",
          "height": 458
        },
        "id": "bXErng5tbUs6",
        "outputId": "4a3cd5aa-e393-4da5-bc12-220a66e7397c"
      },
      "outputs": [
        {
          "output_type": "execute_result",
          "data": {
            "text/plain": [
              "0       0\n",
              "1       0\n",
              "2       0\n",
              "3       0\n",
              "4       0\n",
              "       ..\n",
              "9995    0\n",
              "9996    0\n",
              "9997    0\n",
              "9998    0\n",
              "9999    0\n",
              "Name: Downtime_Flag, Length: 10000, dtype: int64"
            ],
            "text/html": [
              "<div>\n",
              "<style scoped>\n",
              "    .dataframe tbody tr th:only-of-type {\n",
              "        vertical-align: middle;\n",
              "    }\n",
              "\n",
              "    .dataframe tbody tr th {\n",
              "        vertical-align: top;\n",
              "    }\n",
              "\n",
              "    .dataframe thead th {\n",
              "        text-align: right;\n",
              "    }\n",
              "</style>\n",
              "<table border=\"1\" class=\"dataframe\">\n",
              "  <thead>\n",
              "    <tr style=\"text-align: right;\">\n",
              "      <th></th>\n",
              "      <th>Downtime_Flag</th>\n",
              "    </tr>\n",
              "  </thead>\n",
              "  <tbody>\n",
              "    <tr>\n",
              "      <th>0</th>\n",
              "      <td>0</td>\n",
              "    </tr>\n",
              "    <tr>\n",
              "      <th>1</th>\n",
              "      <td>0</td>\n",
              "    </tr>\n",
              "    <tr>\n",
              "      <th>2</th>\n",
              "      <td>0</td>\n",
              "    </tr>\n",
              "    <tr>\n",
              "      <th>3</th>\n",
              "      <td>0</td>\n",
              "    </tr>\n",
              "    <tr>\n",
              "      <th>4</th>\n",
              "      <td>0</td>\n",
              "    </tr>\n",
              "    <tr>\n",
              "      <th>...</th>\n",
              "      <td>...</td>\n",
              "    </tr>\n",
              "    <tr>\n",
              "      <th>9995</th>\n",
              "      <td>0</td>\n",
              "    </tr>\n",
              "    <tr>\n",
              "      <th>9996</th>\n",
              "      <td>0</td>\n",
              "    </tr>\n",
              "    <tr>\n",
              "      <th>9997</th>\n",
              "      <td>0</td>\n",
              "    </tr>\n",
              "    <tr>\n",
              "      <th>9998</th>\n",
              "      <td>0</td>\n",
              "    </tr>\n",
              "    <tr>\n",
              "      <th>9999</th>\n",
              "      <td>0</td>\n",
              "    </tr>\n",
              "  </tbody>\n",
              "</table>\n",
              "<p>10000 rows × 1 columns</p>\n",
              "</div><br><label><b>dtype:</b> int64</label>"
            ]
          },
          "metadata": {},
          "execution_count": 52
        }
      ],
      "source": [
        "y"
      ]
    },
    {
      "cell_type": "markdown",
      "metadata": {
        "id": "XR6oWfcStVv_"
      },
      "source": [
        "#Split the datset into training and testing sets"
      ]
    },
    {
      "cell_type": "code",
      "execution_count": 53,
      "metadata": {
        "id": "mpEAUJUitRB2"
      },
      "outputs": [],
      "source": [
        "#Split the resampled dataset into training and test sets\n",
        "X_train, X_test, y_train, y_test = train_test_split(X_resampled, y_resampled, test_size=0.2, random_state=42)\n"
      ]
    },
    {
      "cell_type": "markdown",
      "source": [
        "# Check the resampled class distribution after splitting"
      ],
      "metadata": {
        "id": "KW_sA1lC7aRN"
      }
    },
    {
      "cell_type": "code",
      "source": [
        "print(\"Resampled Class Distribution (Train set):\")\n",
        "print(y_train.value_counts())\n",
        "print(\"\\nResampled Class Distribution (Test set):\")\n",
        "print(y_test.value_counts())"
      ],
      "metadata": {
        "colab": {
          "base_uri": "https://localhost:8080/",
          "height": 0
        },
        "id": "SQ9zybbc4yAV",
        "outputId": "049f5ccb-fd13-4704-feed-90e5aaa6469e"
      },
      "execution_count": 54,
      "outputs": [
        {
          "output_type": "stream",
          "name": "stdout",
          "text": [
            "Resampled Class Distribution (Train set):\n",
            "Downtime_Flag\n",
            "1    7730\n",
            "0    7727\n",
            "Name: count, dtype: int64\n",
            "\n",
            "Resampled Class Distribution (Test set):\n",
            "Downtime_Flag\n",
            "0    1934\n",
            "1    1931\n",
            "Name: count, dtype: int64\n"
          ]
        }
      ]
    },
    {
      "cell_type": "markdown",
      "metadata": {
        "id": "UabxoWCCtdEd"
      },
      "source": [
        "#Build the Decision Tree Model"
      ]
    },
    {
      "cell_type": "code",
      "execution_count": 68,
      "metadata": {
        "id": "KXhEd35Xtott"
      },
      "outputs": [],
      "source": [
        "#Train a Decision Tree Classifier\n",
        "model = DecisionTreeClassifier(random_state=42)\n",
        "model.fit(X_train, y_train)\n",
        "\n",
        "#Make Predictions\n",
        "y_pred = model.predict(X_test)"
      ]
    },
    {
      "cell_type": "markdown",
      "metadata": {
        "id": "ugr7GvSvtqBZ"
      },
      "source": [
        "#Evaluate the Model Performance"
      ]
    },
    {
      "cell_type": "code",
      "execution_count": 69,
      "metadata": {
        "colab": {
          "base_uri": "https://localhost:8080/",
          "height": 0
        },
        "id": "uSnCT9HEZXWw",
        "outputId": "41640ab6-af6a-4e74-a079-d4892134f039"
      },
      "outputs": [
        {
          "output_type": "stream",
          "name": "stdout",
          "text": [
            "Accuracy: 0.99\n",
            "Classification Report:\n",
            "              precision    recall  f1-score   support\n",
            "\n",
            "           0       0.99      0.99      0.99      1934\n",
            "           1       0.99      0.99      0.99      1931\n",
            "\n",
            "    accuracy                           0.99      3865\n",
            "   macro avg       0.99      0.99      0.99      3865\n",
            "weighted avg       0.99      0.99      0.99      3865\n",
            "\n"
          ]
        }
      ],
      "source": [
        "#Evaluate the Model\n",
        "accuracy = accuracy_score(y_test, y_pred)\n",
        "print(f\"Accuracy: {accuracy:.2f}\")\n",
        "print(\"Classification Report:\")\n",
        "print(classification_report(y_test, y_pred))"
      ]
    },
    {
      "cell_type": "markdown",
      "metadata": {
        "id": "fvOekvgNtxc8"
      },
      "source": [
        "#Save the model"
      ]
    },
    {
      "cell_type": "code",
      "execution_count": 70,
      "metadata": {
        "colab": {
          "base_uri": "https://localhost:8080/",
          "height": 0
        },
        "id": "JzqBXN4polTM",
        "outputId": "ee239288-d31a-482c-9dc8-5663f05f06d4"
      },
      "outputs": [
        {
          "output_type": "stream",
          "name": "stdout",
          "text": [
            "Model saved as 'decision_tree_model.pkl'\n"
          ]
        }
      ],
      "source": [
        "import joblib\n",
        "joblib.dump(model, 'Decision_tree_model.pkl')\n",
        "print(\"Model saved as 'decision_tree_model.pkl'\")"
      ]
    },
    {
      "cell_type": "markdown",
      "metadata": {
        "id": "0p5xiwiDt3Nh"
      },
      "source": [
        "#Build the LogisticRegression Model"
      ]
    },
    {
      "cell_type": "code",
      "execution_count": 63,
      "metadata": {
        "id": "EjQAjTIdcGNv"
      },
      "outputs": [],
      "source": [
        "from sklearn.linear_model import LogisticRegression\n",
        "\n",
        "# Initialize the Logistic Regression model with specified hyperparameters\n",
        "log_reg_model = LogisticRegression(\n",
        "    C=1,  # Regularization strength\n",
        "    penalty='l2',  # Regularization type, 'l2' is the most common\n",
        "    solver='lbfgs',  # Optimization algorithm (good for larger datasets)\n",
        "    max_iter=1000,  # Maximum number of iterations for optimization\n",
        "    random_state=42,  # For reproducibility\n",
        "    l1_ratio=None,  # Only used if 'elasticnet' penalty is chosen\n",
        ")\n",
        "\n",
        "# Train the model on the training data (X_train, y_train)\n",
        "log_reg_model.fit(X_train, y_train)\n",
        "\n",
        "# Make predictions with the trained model\n",
        "y_pred = log_reg_model.predict(X_test)"
      ]
    },
    {
      "cell_type": "markdown",
      "metadata": {
        "id": "fg-EvC9guByB"
      },
      "source": [
        "#Evaluate the Model Performance"
      ]
    },
    {
      "cell_type": "code",
      "execution_count": 64,
      "metadata": {
        "colab": {
          "base_uri": "https://localhost:8080/",
          "height": 0
        },
        "id": "K25jdF3MclFj",
        "outputId": "5bb66cda-e21c-4ae1-e747-813453ef83c4"
      },
      "outputs": [
        {
          "output_type": "stream",
          "name": "stdout",
          "text": [
            "Accuracy: 0.85\n",
            "Classification Report:\n",
            "              precision    recall  f1-score   support\n",
            "\n",
            "           0       0.84      0.86      0.85      1934\n",
            "           1       0.86      0.84      0.85      1931\n",
            "\n",
            "    accuracy                           0.85      3865\n",
            "   macro avg       0.85      0.85      0.85      3865\n",
            "weighted avg       0.85      0.85      0.85      3865\n",
            "\n"
          ]
        }
      ],
      "source": [
        "accuracy = accuracy_score(y_test, y_pred)\n",
        "print(f\"Accuracy: {accuracy:.2f}\")\n",
        "print(\"Classification Report:\")\n",
        "print(classification_report(y_test, y_pred))"
      ]
    },
    {
      "cell_type": "markdown",
      "metadata": {
        "id": "14Wo2n150kyi"
      },
      "source": [
        "#Save the Model"
      ]
    },
    {
      "cell_type": "code",
      "execution_count": 65,
      "metadata": {
        "colab": {
          "base_uri": "https://localhost:8080/",
          "height": 0
        },
        "id": "BkBD8bvP0oOi",
        "outputId": "284206a7-a327-4655-ce43-540b87cb701f"
      },
      "outputs": [
        {
          "output_type": "stream",
          "name": "stdout",
          "text": [
            "Model saved as 'LogisticRegression.pkl'\n"
          ]
        }
      ],
      "source": [
        "import joblib\n",
        "joblib.dump(model, 'LogisticRegression.pkl')\n",
        "print(\"Model saved as 'LogisticRegression.pkl'\")"
      ]
    },
    {
      "cell_type": "markdown",
      "metadata": {
        "id": "jbQxQ2IMuHR4"
      },
      "source": [
        "#Installing all necessary modules to get desired output"
      ]
    },
    {
      "cell_type": "code",
      "execution_count": 76,
      "metadata": {
        "colab": {
          "base_uri": "https://localhost:8080/",
          "height": 0
        },
        "id": "uK5Igl793lQw",
        "outputId": "a2f0d40d-e1ae-49d1-85bc-6cd50420bc13"
      },
      "outputs": [
        {
          "output_type": "stream",
          "name": "stdout",
          "text": [
            "Requirement already satisfied: flask in /usr/local/lib/python3.11/dist-packages (3.1.0)\n",
            "Requirement already satisfied: pandas in /usr/local/lib/python3.11/dist-packages (2.2.2)\n",
            "Requirement already satisfied: scikit-learn in /usr/local/lib/python3.11/dist-packages (1.6.0)\n",
            "Requirement already satisfied: Werkzeug>=3.1 in /usr/local/lib/python3.11/dist-packages (from flask) (3.1.3)\n",
            "Requirement already satisfied: Jinja2>=3.1.2 in /usr/local/lib/python3.11/dist-packages (from flask) (3.1.5)\n",
            "Requirement already satisfied: itsdangerous>=2.2 in /usr/local/lib/python3.11/dist-packages (from flask) (2.2.0)\n",
            "Requirement already satisfied: click>=8.1.3 in /usr/local/lib/python3.11/dist-packages (from flask) (8.1.8)\n",
            "Requirement already satisfied: blinker>=1.9 in /usr/local/lib/python3.11/dist-packages (from flask) (1.9.0)\n",
            "Requirement already satisfied: numpy>=1.23.2 in /usr/local/lib/python3.11/dist-packages (from pandas) (1.26.4)\n",
            "Requirement already satisfied: python-dateutil>=2.8.2 in /usr/local/lib/python3.11/dist-packages (from pandas) (2.8.2)\n",
            "Requirement already satisfied: pytz>=2020.1 in /usr/local/lib/python3.11/dist-packages (from pandas) (2024.2)\n",
            "Requirement already satisfied: tzdata>=2022.7 in /usr/local/lib/python3.11/dist-packages (from pandas) (2024.2)\n",
            "Requirement already satisfied: scipy>=1.6.0 in /usr/local/lib/python3.11/dist-packages (from scikit-learn) (1.13.1)\n",
            "Requirement already satisfied: joblib>=1.2.0 in /usr/local/lib/python3.11/dist-packages (from scikit-learn) (1.4.2)\n",
            "Requirement already satisfied: threadpoolctl>=3.1.0 in /usr/local/lib/python3.11/dist-packages (from scikit-learn) (3.5.0)\n",
            "Requirement already satisfied: MarkupSafe>=2.0 in /usr/local/lib/python3.11/dist-packages (from Jinja2>=3.1.2->flask) (3.0.2)\n",
            "Requirement already satisfied: six>=1.5 in /usr/local/lib/python3.11/dist-packages (from python-dateutil>=2.8.2->pandas) (1.17.0)\n"
          ]
        }
      ],
      "source": [
        "pip install flask pandas scikit-learn"
      ]
    },
    {
      "cell_type": "code",
      "execution_count": 1,
      "metadata": {
        "colab": {
          "base_uri": "https://localhost:8080/",
          "height": 0
        },
        "id": "XWNM9Hj345T3",
        "outputId": "6b9bd232-1144-406c-b747-5ecf8012d779"
      },
      "outputs": [
        {
          "output_type": "stream",
          "name": "stdout",
          "text": [
            "Requirement already satisfied: pyngrok==4.1.1 in /usr/local/lib/python3.11/dist-packages (4.1.1)\n",
            "Requirement already satisfied: future in /usr/local/lib/python3.11/dist-packages (from pyngrok==4.1.1) (1.0.0)\n",
            "Requirement already satisfied: PyYAML in /usr/local/lib/python3.11/dist-packages (from pyngrok==4.1.1) (6.0.2)\n"
          ]
        }
      ],
      "source": [
        "!pip install pyngrok==4.1.1"
      ]
    },
    {
      "cell_type": "code",
      "execution_count": 3,
      "metadata": {
        "colab": {
          "base_uri": "https://localhost:8080/",
          "height": 0
        },
        "id": "N84TtRRIt7AN",
        "outputId": "59feba8c-ab11-4bd8-f335-cf6d5550d2f0"
      },
      "outputs": [
        {
          "output_type": "stream",
          "name": "stdout",
          "text": [
            "Requirement already satisfied: flask_ngrok in /usr/local/lib/python3.11/dist-packages (0.0.25)\n",
            "Requirement already satisfied: Flask>=0.8 in /usr/local/lib/python3.11/dist-packages (from flask_ngrok) (3.1.0)\n",
            "Requirement already satisfied: requests in /usr/local/lib/python3.11/dist-packages (from flask_ngrok) (2.32.3)\n",
            "Requirement already satisfied: Werkzeug>=3.1 in /usr/local/lib/python3.11/dist-packages (from Flask>=0.8->flask_ngrok) (3.1.3)\n",
            "Requirement already satisfied: Jinja2>=3.1.2 in /usr/local/lib/python3.11/dist-packages (from Flask>=0.8->flask_ngrok) (3.1.5)\n",
            "Requirement already satisfied: itsdangerous>=2.2 in /usr/local/lib/python3.11/dist-packages (from Flask>=0.8->flask_ngrok) (2.2.0)\n",
            "Requirement already satisfied: click>=8.1.3 in /usr/local/lib/python3.11/dist-packages (from Flask>=0.8->flask_ngrok) (8.1.8)\n",
            "Requirement already satisfied: blinker>=1.9 in /usr/local/lib/python3.11/dist-packages (from Flask>=0.8->flask_ngrok) (1.9.0)\n",
            "Requirement already satisfied: charset-normalizer<4,>=2 in /usr/local/lib/python3.11/dist-packages (from requests->flask_ngrok) (3.4.1)\n",
            "Requirement already satisfied: idna<4,>=2.5 in /usr/local/lib/python3.11/dist-packages (from requests->flask_ngrok) (3.10)\n",
            "Requirement already satisfied: urllib3<3,>=1.21.1 in /usr/local/lib/python3.11/dist-packages (from requests->flask_ngrok) (2.3.0)\n",
            "Requirement already satisfied: certifi>=2017.4.17 in /usr/local/lib/python3.11/dist-packages (from requests->flask_ngrok) (2024.12.14)\n",
            "Requirement already satisfied: MarkupSafe>=2.0 in /usr/local/lib/python3.11/dist-packages (from Jinja2>=3.1.2->Flask>=0.8->flask_ngrok) (3.0.2)\n",
            "Authtoken saved to configuration file: /root/.config/ngrok/ngrok.yml\n"
          ]
        }
      ],
      "source": [
        "!pip install flask_ngrok\n",
        "\n",
        "# Authenticate Ngrok with your token\n",
        "!ngrok authtoken 2rwq2V6fDFhbDZDmrx5mxxwhBwo_4wPq1yP8imGyUA4Z1xPN4"
      ]
    },
    {
      "cell_type": "markdown",
      "metadata": {
        "id": "7QO9n8_sqEVY"
      },
      "source": [
        "#Connecting to drive"
      ]
    },
    {
      "cell_type": "code",
      "execution_count": 3,
      "metadata": {
        "colab": {
          "base_uri": "https://localhost:8080/",
          "height": 0
        },
        "id": "JbH9SPfXqHd1",
        "outputId": "765afea4-c665-40fe-c0ec-b1017557a09f"
      },
      "outputs": [
        {
          "output_type": "stream",
          "name": "stdout",
          "text": [
            "Drive already mounted at /content/drive; to attempt to forcibly remount, call drive.mount(\"/content/drive\", force_remount=True).\n"
          ]
        }
      ],
      "source": [
        "from google.colab import drive\n",
        "drive.mount('/content/drive')\n"
      ]
    },
    {
      "cell_type": "code",
      "execution_count": 4,
      "metadata": {
        "colab": {
          "base_uri": "https://localhost:8080/",
          "height": 0
        },
        "id": "uOGXUjWbsWAn",
        "outputId": "c5793e11-68b5-4478-e8da-46b3f67421e6"
      },
      "outputs": [
        {
          "output_type": "stream",
          "name": "stdout",
          "text": [
            "Requirement already satisfied: requests in /usr/local/lib/python3.11/dist-packages (2.32.3)\n",
            "Requirement already satisfied: charset-normalizer<4,>=2 in /usr/local/lib/python3.11/dist-packages (from requests) (3.4.1)\n",
            "Requirement already satisfied: idna<4,>=2.5 in /usr/local/lib/python3.11/dist-packages (from requests) (3.10)\n",
            "Requirement already satisfied: urllib3<3,>=1.21.1 in /usr/local/lib/python3.11/dist-packages (from requests) (2.3.0)\n",
            "Requirement already satisfied: certifi>=2017.4.17 in /usr/local/lib/python3.11/dist-packages (from requests) (2024.12.14)\n",
            "Requirement already satisfied: pyngrok in /usr/local/lib/python3.11/dist-packages (4.1.1)\n",
            "Requirement already satisfied: future in /usr/local/lib/python3.11/dist-packages (from pyngrok) (1.0.0)\n",
            "Requirement already satisfied: PyYAML in /usr/local/lib/python3.11/dist-packages (from pyngrok) (6.0.2)\n"
          ]
        }
      ],
      "source": [
        "!pip install requests\n",
        "!pip install pyngrok\n"
      ]
    },
    {
      "cell_type": "markdown",
      "source": [
        "#Access Tokens from ngrok"
      ],
      "metadata": {
        "id": "6yoct9A48prd"
      }
    },
    {
      "cell_type": "code",
      "execution_count": 5,
      "metadata": {
        "id": "dtoSiwDwuPjb"
      },
      "outputs": [],
      "source": [
        "from pyngrok import ngrok\n",
        "\n",
        "# Replace 'your_authtoken_here' with your actual ngrok authtoken\n",
        "ngrok.set_auth_token(\"2rwq2V6fDFhbDZDmrx5mxxwhBwo_4wPcvbniuyt34567899ugq1yP8imGyUA4Z1xPN4\")\n"
      ]
    },
    {
      "cell_type": "code",
      "source": [
        "!pip install pyngrok --upgrade\n"
      ],
      "metadata": {
        "colab": {
          "base_uri": "https://localhost:8080/",
          "height": 0
        },
        "id": "1-L37SIrDOuz",
        "outputId": "4abf9c3d-6e5a-46e0-b9dd-ad56cc75d95e"
      },
      "execution_count": 1,
      "outputs": [
        {
          "output_type": "stream",
          "name": "stdout",
          "text": [
            "Requirement already satisfied: pyngrok in /usr/local/lib/python3.11/dist-packages (7.2.3)\n",
            "Requirement already satisfied: PyYAML>=5.1 in /usr/local/lib/python3.11/dist-packages (from pyngrok) (6.0.2)\n"
          ]
        }
      ]
    },
    {
      "cell_type": "code",
      "execution_count": 5,
      "metadata": {
        "colab": {
          "base_uri": "https://localhost:8080/",
          "height": 0
        },
        "id": "uzD39NMcuHl5",
        "outputId": "818c1aef-2d7f-4a20-e281-6da2d52de3e4"
      },
      "outputs": [
        {
          "output_type": "stream",
          "name": "stderr",
          "text": [
            "WARNING:pyngrok.process.ngrok:t=2025-01-22T22:06:33+0000 lvl=warn msg=\"ngrok config file found at both XDG and legacy locations, using XDG location\" xdg_path=/root/.config/ngrok/ngrok.yml legacy_path=/root/.ngrok2/ngrok.yml\n"
          ]
        },
        {
          "output_type": "stream",
          "name": "stdout",
          "text": [
            "Flask app is accessible at: NgrokTunnel: \"https://8e2f-35-227-76-255.ngrok-free.app\" -> \"http://localhost:5000\"\n"
          ]
        }
      ],
      "source": [
        "from pyngrok import ngrok\n",
        "public_url = ngrok.connect(5000)\n",
        "print(f\"Flask app is accessible at: {public_url}\")\n"
      ]
    },
    {
      "cell_type": "markdown",
      "metadata": {
        "id": "rcIziImbNoCJ"
      },
      "source": [
        "#Creating end point to\n",
        "\n",
        "1. Accept the files and return confusion metrix\n",
        "\n",
        "2. Predict the end Point"
      ]
    },
    {
      "cell_type": "code",
      "execution_count": 6,
      "metadata": {
        "id": "4IMDTZnxtmpS"
      },
      "outputs": [],
      "source": [
        "# Set the folder to store uploaded files in Google Drive\n",
        "UPLOAD_FOLDER = '/contenkmnt/drnkive/MynknDrive/Comnlab bknNotebooksFlask mUploads'  # Set this to your preferred folder in Google Drive\n"
      ]
    },
    {
      "cell_type": "code",
      "execution_count": 8,
      "metadata": {
        "colab": {
          "base_uri": "https://localhost:8080/",
          "height": 0
        },
        "id": "X1wL4dEDBTxK",
        "outputId": "c82142d3-ed11-4cc4-9a83-b151350416f7"
      },
      "outputs": [
        {
          "output_type": "stream",
          "name": "stderr",
          "text": [
            "WARNING:pyngrok.process.ngrok:t=2025-01-22T22:09:20+0000 lvl=warn msg=\"ngrok config file found at both XDG and legacy locations, using XDG location\" xdg_path=/root/.config/ngrok/ngrok.yml legacy_path=/root/.ngrok2/ngrok.yml\n"
          ]
        },
        {
          "output_type": "stream",
          "name": "stdout",
          "text": [
            "Flask app is accessible at: NgrokTunnel: \"https://b3c6-35-227-76-255.ngrok-free.app\" -> \"http://localhost:5000\"\n",
            " * Serving Flask app '__main__'\n",
            " * Debug mode: off\n"
          ]
        },
        {
          "output_type": "stream",
          "name": "stderr",
          "text": [
            "INFO:werkzeug:\u001b[31m\u001b[1mWARNING: This is a development server. Do not use it in a production deployment. Use a production WSGI server instead.\u001b[0m\n",
            " * Running on http://127.0.0.1:5000\n",
            "INFO:werkzeug:\u001b[33mPress CTRL+C to quit\u001b[0m\n",
            "INFO:werkzeug:127.0.0.1 - - [22/Jan/2025 22:09:26] \"GET / HTTP/1.1\" 200 -\n",
            "INFO:werkzeug:127.0.0.1 - - [22/Jan/2025 22:09:27] \"\u001b[33mGET /favicon.ico HTTP/1.1\u001b[0m\" 404 -\n",
            "INFO:werkzeug:127.0.0.1 - - [22/Jan/2025 22:09:36] \"POST /upload HTTP/1.1\" 200 -\n",
            "INFO:werkzeug:127.0.0.1 - - [22/Jan/2025 22:09:39] \"POST /process HTTP/1.1\" 200 -\n"
          ]
        }
      ],
      "source": [
        "from flask import Flask, render_template_string, request, jsonify\n",
        "from werkzeug.utils import secure_filename\n",
        "import pandas as pd\n",
        "import os\n",
        "from pyngrok import ngrok\n",
        "from sklearn.linear_model import LogisticRegression\n",
        "from sklearn.model_selection import train_test_split\n",
        "from sklearn.preprocessing import StandardScaler\n",
        "from sklearn.metrics import accuracy_score, f1_score, confusion_matrix\n",
        "\n",
        "# Initialize Flask app\n",
        "app = Flask(__name__)\n",
        "\n",
        "# Set the folder to store uploaded files\n",
        "UPLOAD_FOLDER = '/contebnknt/djrive/MyDrkive/Colab juhNotebooks/FlaskUpnnnmloads'  # Change this to your folder path\n",
        "app.config['UPLOAD_FOLDER'] = UPLOAD_FOLDER\n",
        "\n",
        "# Set allowed file extensions and required columns\n",
        "ALLOWED_EXTENSIONS = {'csv'}\n",
        "REQUIRED_COLUMNS = {'Machine_ID', 'Temperature', 'Downtime_Flag', 'Run_Time'}\n",
        "\n",
        "# Function to check allowed file extensions\n",
        "def allowed_file(filename):\n",
        "    return '.' in filename and filename.rsplit('.', 1)[1].lower() in ALLOWED_EXTENSIONS\n",
        "\n",
        "# HTML with enhanced CSS for better styling\n",
        "HTML_PAGE = '''\n",
        "<!DOCTYPE html>\n",
        "<html lang=\"en\">\n",
        "<head>\n",
        "    <meta charset=\"UTF-8\">\n",
        "    <meta name=\"viewport\" content=\"width=device-width, initial-scale=1.0\">\n",
        "    <title>CSV Upload</title>\n",
        "    <style>\n",
        "        body {\n",
        "            font-family: Arial, sans-serif;\n",
        "            background-color: #f0f8ff;\n",
        "            margin: 0;\n",
        "            display: flex;\n",
        "            justify-content: center;\n",
        "            align-items: center;\n",
        "            height: 100vh;\n",
        "        }\n",
        "        .container {\n",
        "            text-align: center;\n",
        "            padding: 30px;\n",
        "            border-radius: 12px;\n",
        "            box-shadow: 0px 4px 10px rgba(0, 0, 0, 0.2);\n",
        "            background-color: white;\n",
        "            max-width: 400px;\n",
        "            width: 100%;\n",
        "        }\n",
        "        h2 {\n",
        "            color: #333;\n",
        "            margin-bottom: 20px;\n",
        "        }\n",
        "        input[type=\"file\"] {\n",
        "            padding: 10px;\n",
        "            width: 100%;\n",
        "            margin-bottom: 20px;\n",
        "            border: 1px solid #ddd;\n",
        "            border-radius: 5px;\n",
        "        }\n",
        "        button {\n",
        "            padding: 10px 20px;\n",
        "            background-color: #4CAF50;\n",
        "            color: white;\n",
        "            border: none;\n",
        "            border-radius: 5px;\n",
        "            cursor: pointer;\n",
        "            font-size: 16px;\n",
        "        }\n",
        "        button:hover {\n",
        "            background-color: #45a049;\n",
        "        }\n",
        "        .result {\n",
        "            margin-top: 20px;\n",
        "            padding: 20px;\n",
        "            border-radius: 8px;\n",
        "            background-color: #f9f9f9;\n",
        "            border: 1px solid #ddd;\n",
        "        }\n",
        "        .success {\n",
        "            color: #2e7d32;\n",
        "        }\n",
        "        .error {\n",
        "            color: #d32f2f;\n",
        "        }\n",
        "        .warning {\n",
        "            color: #ff9800;\n",
        "        }\n",
        "    </style>\n",
        "</head>\n",
        "<body>\n",
        "    <div class=\"container\">\n",
        "        {% if step == 1 %}\n",
        "            <h2>Upload Manufacturing Data</h2>\n",
        "            <form action=\"/upload\" method=\"post\" enctype=\"multipart/form-data\">\n",
        "                <input type=\"file\" name=\"file\" accept=\".csv\">\n",
        "                <button type=\"submit\">Upload CSV</button>\n",
        "            </form>\n",
        "        {% elif step == 2 %}\n",
        "            <h2>File Accepted Successfully</h2>\n",
        "            <p><strong>Columns:</strong> {{ columns }}</p>\n",
        "            <form action=\"/process\" method=\"post\">\n",
        "                <button type=\"submit\">Process</button>\n",
        "            </form>\n",
        "        {% elif step == 3 %}\n",
        "            <h2>Prediction Results</h2>\n",
        "            <p><strong>Accuracy:</strong> {{ accuracy }}</p>\n",
        "            <p><strong>F1 Score:</strong> {{ f1_score }}</p>\n",
        "            <p><strong>Confusion Matrix:</strong><pre>{{ confusion_matrix }}</pre></p>\n",
        "            {% if accuracy >= 0.9 %}\n",
        "                <p class=\"success\">Great job! The model performed excellently!</p>\n",
        "            {% elif accuracy >= 0.7 %}\n",
        "                <p class=\"warning\">Good work! But there's room for improvement.</p>\n",
        "            {% else %}\n",
        "                <p class=\"error\">Keep trying! There's a lot of potential for improvement.</p>\n",
        "            {% endif %}\n",
        "        {% endif %}\n",
        "    </div>\n",
        "</body>\n",
        "</html>\n",
        "'''\n",
        "\n",
        "# Store file path globally (to use in the predict function)\n",
        "uploaded_file_path = None\n",
        "\n",
        "# Home route to render HTML page\n",
        "@app.route('/')\n",
        "def home():\n",
        "    return render_template_string(HTML_PAGE, step=1)\n",
        "\n",
        "# Route to handle file upload, validate columns\n",
        "@app.route('/upload', methods=['POST'])\n",
        "def upload_file():\n",
        "    global uploaded_file_path\n",
        "\n",
        "    if 'file' not in request.files:\n",
        "        return render_template_string(HTML_PAGE, step=1, result={\"success\": False, \"message\": \"No file part\"})\n",
        "\n",
        "    file = request.files['file']\n",
        "    if file and allowed_file(file.filename):\n",
        "        # Secure the filename and save the file\n",
        "        filename = secure_filename(file.filename)\n",
        "        uploaded_file_path = os.path.join(app.config['UPLOAD_FOLDER'], filename)\n",
        "        os.makedirs(app.config['UPLOAD_FOLDER'], exist_ok=True)\n",
        "        file.save(uploaded_file_path)\n",
        "\n",
        "        # Read the CSV file with pandas\n",
        "        try:\n",
        "            df = pd.read_csv(uploaded_file_path)\n",
        "\n",
        "            # Validate required columns\n",
        "            if REQUIRED_COLUMNS.issubset(df.columns):\n",
        "                irrelevant_columns = [col for col in df.columns if col not in REQUIRED_COLUMNS]\n",
        "                if irrelevant_columns:\n",
        "                    return render_template_string(HTML_PAGE, step=1, result={\n",
        "                        \"success\": False,\n",
        "                        \"message\": \"File contains irrelevant columns: \" + ', '.join(irrelevant_columns)\n",
        "                    })\n",
        "                return render_template_string(HTML_PAGE, step=2, columns=', '.join(df.columns))\n",
        "\n",
        "            else:\n",
        "                return render_template_string(HTML_PAGE, step=1, result={\n",
        "                    \"success\": False,\n",
        "                    \"message\": \"File must contain the required columns: \" + ', '.join(REQUIRED_COLUMNS)\n",
        "                })\n",
        "        except Exception as e:\n",
        "            return render_template_string(HTML_PAGE, step=1, result={\n",
        "                \"success\": False,\n",
        "                \"message\": f\"Error processing file: {str(e)}\"\n",
        "            })\n",
        "\n",
        "    return render_template_string(HTML_PAGE, step=1, result={\"success\": False, \"message\": \"Invalid file format. Please upload a CSV file.\"})\n",
        "\n",
        "# Route to handle model prediction and return metrics\n",
        "@app.route('/process', methods=['POST'])\n",
        "def process_data():\n",
        "    global uploaded_file_path\n",
        "\n",
        "    if uploaded_file_path:\n",
        "        # Read the CSV file with pandas\n",
        "        df = pd.read_csv(uploaded_file_path)\n",
        "\n",
        "        # Features and target variable\n",
        "        X = df[['Machine_ID', 'Temperature', 'Run_Time']]  # Features\n",
        "        y = df['Downtime_Flag']  # Target variable\n",
        "\n",
        "        # Split the data into training and testing sets\n",
        "        X_train, X_test, y_train, y_test = train_test_split(X, y, test_size=0.2, random_state=42)\n",
        "\n",
        "        # Scale the features\n",
        "        scaler = StandardScaler()\n",
        "        X_train_scaled = scaler.fit_transform(X_train)\n",
        "        X_test_scaled = scaler.transform(X_test)\n",
        "\n",
        "        # Train a Logistic Regression model\n",
        "        model = LogisticRegression(solver='liblinear')\n",
        "        model.fit(X_train_scaled, y_train)\n",
        "\n",
        "        # Predict on the test set\n",
        "        y_pred = model.predict(X_test_scaled)\n",
        "\n",
        "        # Calculate performance metrics\n",
        "        accuracy = accuracy_score(y_test, y_pred)\n",
        "        f1 = f1_score(y_test, y_pred)\n",
        "        confusion = confusion_matrix(y_test, y_pred).tolist()\n",
        "\n",
        "        return render_template_string(HTML_PAGE, step=3, accuracy=accuracy, f1_score=f1, confusion_matrix=confusion)\n",
        "    else:\n",
        "        return render_template_string(HTML_PAGE, step=1, result={\"success\": False, \"message\": \"No file uploaded for prediction.\"})\n",
        "\n",
        "# Run the Flask app and expose it to the internet via Ngrok\n",
        "if __name__ == '__main__':\n",
        "    # Set up Ngrok tunnel for the app\n",
        "    public_url = ngrok.connect(5000)\n",
        "    print(f\"Flask app is accessible at: {public_url}\")\n",
        "    # Run Flask app\n",
        "    app.run(port=5000)\n"
      ]
    },
    {
      "cell_type": "code",
      "source": [],
      "metadata": {
        "id": "KvsTOwskC5uP"
      },
      "execution_count": null,
      "outputs": []
    }
  ],
  "metadata": {
    "colab": {
      "provenance": [],
      "authorship_tag": "ABX9TyNnldQhFxNq8oNo3UqO2fAg",
      "include_colab_link": true
    },
    "kernelspec": {
      "display_name": "Python 3",
      "name": "python3"
    },
    "language_info": {
      "name": "python"
    }
  },
  "nbformat": 4,
  "nbformat_minor": 0
}